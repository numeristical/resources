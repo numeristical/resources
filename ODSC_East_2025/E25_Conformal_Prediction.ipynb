{
 "cells": [
  {
   "cell_type": "markdown",
   "id": "f4bec970-4fb9-4678-b975-fdce42d7b0a7",
   "metadata": {},
   "source": [
    "## Conformal Prediction \n",
    "- ### Method to give prediction intervals from any point prediction method\n",
    "- ### Has attracte much attention due to its flexibility and the accompanying theoretical guarantees.\n",
    "- ### However, one must pay close attention to truly understand the nature of these guarantees.  \n",
    "\n",
    "We will start by covering the basics behind the theory of conformal prediction, with a focus on \"split\" conformal prediction.  We will then demonstrate Conformalized Quantile Regression (CQR), which overcomes many of the drawbacks of the standard alternatives.  "
   ]
  },
  {
   "cell_type": "markdown",
   "id": "f5695d28-a9e7-4dc8-84b4-76d2849aac27",
   "metadata": {},
   "source": [
    "<br>\n",
    "<br>\n",
    "<br>\n",
    "<br>\n",
    "<br>\n",
    "<br>\n",
    "<br>\n",
    "<br>\n",
    "<br>\n"
   ]
  },
  {
   "cell_type": "markdown",
   "id": "97460441-57d9-4e6f-a6db-97f971f2ab92",
   "metadata": {},
   "source": [
    "## Theory behind Conformal Prediction\n",
    "### Thought Experiment\n",
    "Suppose I have variables $Z_1,Z_2$ which are iid draws from some (continuous) distribution. (So, $P(Z_1 = Z_2) = 0$)\n",
    "\n",
    "What is $P(Z_2>Z_1)$?  What is $P(Z_2<Z_1)$?\n",
    "\n",
    "<br>\n",
    "\n",
    "\n",
    "\n",
    "Now suppose I have $Z_1, Z_2, Z_3$ iid variables.\n",
    "\n",
    "What is $P(Z_3<\\min(Z_1, Z_2))$?\n",
    "What is $P(Z_3>\\max(Z_1, Z_2))$?  \n",
    "\n",
    "What is $P(\\min(Z_1, Z_2) < Z_3 < \\max(Z_1, Z_2))$?"
   ]
  },
  {
   "cell_type": "markdown",
   "id": "0e8d8cb2-353e-4c70-b5e6-8f82945fb71c",
   "metadata": {},
   "source": [
    "<br>\n",
    "<br>\n",
    "<br>\n",
    "<br>\n",
    "<br>\n",
    "<br>\n",
    "<br>\n",
    "<br>\n",
    "<br>\n",
    "<br>\n",
    "<br>"
   ]
  },
  {
   "cell_type": "markdown",
   "id": "dd715428-7e88-482b-9c70-7e20f39ca9f7",
   "metadata": {},
   "source": [
    "### This generalizes...\n",
    "If I have $Z_1, Z_2, \\ldots, Z_{n+1}$ iid from any (continuous) distribution, then $Z_{n+1}$ is equally likely to be in any of the $(n+1)$ \"bins\" created by ordering $Z_1, \\ldots, Z_n$ from smallest to largest.\n",
    "\n",
    "In other words:\n",
    "- let $A_1$ be the smallest of $Z_1, Z_2, \\ldots, Z_n$\n",
    "- $A_2$ be second smallest, etc. \n",
    "- up to $A_n$ the largest.  \n",
    "\n",
    "Then $Z_{n+1}$ is equally likely to be in any of the $(n+1)$ intervals:\n",
    "\n",
    "$(-\\infty, A_1), (A_1, A_2), \\ldots, (A_{n-1}, A_n), (A_n, \\infty)$\n",
    "\n",
    "so we can conclude:\n",
    "\n",
    "$P(Z_{n+1} < A_k) = \\frac{k}{n+1}$\n",
    "\n",
    "(Could say something similar with discrete distributions, but gets more complicated with ties, etc... and have to be careful about $<, \\leq, =$)"
   ]
  },
  {
   "cell_type": "markdown",
   "id": "6bf9c901-baf8-4906-b364-789083aca1be",
   "metadata": {},
   "source": [
    "<br>\n",
    "<br>\n",
    "<br>\n"
   ]
  },
  {
   "cell_type": "markdown",
   "id": "5e2b2a73-3a90-4ba7-a97c-c16e53d13bc8",
   "metadata": {},
   "source": [
    "### Example\n",
    "Let $n=9$, I have 10 observations from some iid distribution $Z_1, Z_2, \\ldots, Z_{10}$:\n",
    "\n",
    "Let $A_8$ be the eight biggest one out of the first 9.\n",
    "\n",
    "$P(X_{10} < A_8) = .8$"
   ]
  },
  {
   "cell_type": "markdown",
   "id": "f1a29859-28ed-4ba6-ae21-333e798e14cc",
   "metadata": {},
   "source": [
    "<br>\n",
    "<br>\n",
    "<br>\n",
    "<br>\n",
    "<br>\n",
    "<br>\n",
    "<br>\n",
    "<br>\n",
    "<br>\n",
    "<br>\n",
    "<br>\n",
    "<br>\n",
    "<br>\n"
   ]
  },
  {
   "cell_type": "markdown",
   "id": "5c951622-add5-46a1-96af-f29b699fcc45",
   "metadata": {},
   "source": [
    "## KEY CAVEAT\n",
    "This is only true when we have *unconditional* probabilities:\n",
    "- i.e. BEFORE we know the values of any of the variables.  \n",
    "- Once I *know* the values $Z_1=3, Z_2=10, Z_3=3.001$, it is no longer true that $X_4$ is equally likely to be in each of the defined intervals.\n",
    "\n",
    "(This can bend your mind a little bit, but is the key to properly understanding the \"guarantees\" of conformal prediction)"
   ]
  },
  {
   "cell_type": "markdown",
   "id": "bc2c8982-9f9f-435c-8a4c-db79d3f8143d",
   "metadata": {},
   "source": [
    "<br>\n",
    "<br>\n",
    "<br>\n",
    "<br>\n",
    "<br>\n",
    "<br>\n",
    "<br>\n",
    "<br>\n"
   ]
  },
  {
   "cell_type": "markdown",
   "id": "68cc9611-dd9b-45fe-87d6-4de589e3de75",
   "metadata": {},
   "source": [
    "### Approach to Split Conformal Prediction (SCP)\n",
    "1) You get a training set $S_{tr} = (X_i, Y_i)$ from the probability distribution $P(X,Y)$ and build your model $M$ on it (assume $Y$ is numeric, continuous).  So now $M$ maps an \"$X$ value\" to a \"$Y$ value\".\n",
    "2) You get a calibration set $S_{ca} = (X_i, Y_i)$ from the same probability distribution. Let $z_i$ be the set of *calibration residuals* => $Z_i = |M(X_i) - Y_i|$ for the $(X_i, Y_i)$ in $S_{ca}$. Let $n$ be the size of the calibration set.\n",
    "3) These $Z_i$, $i=1,\\ldots,n$ will serve the same role of \"dividing up\" $[0, \\infty)$  into intervals.  Let $A_1$ be the smallest, $A_2$ be the second smallest, etc.\n",
    "4) Generate a new point $(X_0, Y_0)$ from $P(X,Y)$ and let $Z_0 = |M(X_0) - Y_i|$ (e.g. a point in the test set).  Let $Z_0 = |M(X_0) - Y_i|$ (the residual of this new point).  Suppose $n=99$ and we want 80\\% \"coverage\" for a prediction interval.  We know from before that:\n",
    "\n",
    "$P(Z_0 < A_{80})=.8$\n",
    "\n",
    "$P(|M(X_0)-Y_0| < A_{80}) =.8$\n",
    "\n",
    "$P(Y_0 - A_{80} < M(X_0) < Y_0 + A_{80}) = .8$\n",
    "\n",
    "Put another way, 80\\% of the time, your model prediction is within $A_{80}$ of the true answer, where $A_{80}$ is the 80th biggest error (out of 99) in your calibration set!\n",
    "\n",
    "Roughly speaking: Suppose $A_{80} = 12$.  Since in the past, 80\\% of your errors were less than 12, we can just add +/- 12 to (all) our predictions and the corresponding interval will contain the right answer 80\\% of the time!\n",
    "\n",
    "And it works for any model $M$, no matter how you created it!"
   ]
  },
  {
   "cell_type": "markdown",
   "id": "65cc1659-12ac-48fe-a496-14c113c0e3c2",
   "metadata": {},
   "source": [
    "<br>\n",
    "<br>\n",
    "<br>\n",
    "<br>\n",
    "<br>\n",
    "<br>\n",
    "<br>\n",
    "<br>\n"
   ]
  },
  {
   "cell_type": "markdown",
   "id": "723b1e60-6775-4611-8c6f-4b38a13cd9f8",
   "metadata": {},
   "source": [
    "#### Q: This sounds too good to be true!  What am I missing?\n",
    "\n",
    "The key caveat, is that this is \"on average\" across all $X$ values.  Specifically, we are using the same +/- value regardless of the value of $X$.  Mathematically speaking, the coverage is **not conditional on $X=x$**"
   ]
  },
  {
   "cell_type": "markdown",
   "id": "0e535701-5c3d-4056-b239-b1fe39cc5c1e",
   "metadata": {},
   "source": [
    "#### Q: Why does that matter?\n",
    "\n",
    "Suppose you have a house price prediction model.  Houses range in price from \\\\$100,000 to \\\\$20,000,000.  You use split conformal prediction to get 90\\% coverage and it gives you a +/- value of \\\\$90,000.  What will happen in practice?\n",
    "\n",
    "For a point prediction of 80,000 your prediction interval will be (-10K, 170K)\n",
    "\n",
    "For a point prediction of 15,000,000 your prediction interval will be (14.91M, 15.09M)\n",
    "\n",
    "Do you think you will have the same 90\\% coverage on both shacks and mansions?"
   ]
  },
  {
   "cell_type": "markdown",
   "id": "27e9fcde-f422-43d7-bb07-1f83caaf12a6",
   "metadata": {},
   "source": [
    "<br>\n",
    "<br>\n",
    "<br>\n",
    "<br>\n",
    "<br>\n",
    "<br>\n",
    "<br>\n",
    "<br>\n"
   ]
  },
  {
   "cell_type": "markdown",
   "id": "8c533457-b832-455a-a475-85a80fba79c2",
   "metadata": {},
   "source": [
    "### Additional Limitations\n",
    "Suppose your model makes predictions of \\\\$300,000 on two different condos.  For condo 1, many nearby condos have been sold between \\\\$295,000 and \\\\$305,000. For condo 2, similar units have been sold from \\\\$200,000 to \\\\$400,000.  \n",
    "\n",
    "Will SCP adapt its intervals to reflect higher confidence in condo 1?  No!  SCP only looks at the point prediction of the model, and the residuals across the entire calibration set (ignoring the effect of $X$ on the residuals).  It cannot learn the confidence from the data set (the way the probabilistic regression methods do)."
   ]
  },
  {
   "cell_type": "markdown",
   "id": "ba9d1086-fe68-4a8f-883f-0a34f8073f07",
   "metadata": {},
   "source": [
    "That said, Split Conformal Prediction is a simple way to get prediction intervals that (on average across all X values) give the desired coverage (and can be proven to do so)."
   ]
  },
  {
   "cell_type": "code",
   "execution_count": null,
   "id": "5dc19d72-77c3-4a50-b9be-c4a4110ad83a",
   "metadata": {
    "tags": []
   },
   "outputs": [],
   "source": []
  },
  {
   "cell_type": "code",
   "execution_count": 1,
   "id": "3e93d32f-e253-48b0-a9af-047f99a08fc6",
   "metadata": {
    "tags": []
   },
   "outputs": [],
   "source": [
    "import numpy as np\n",
    "import pandas as pd\n",
    "import matplotlib.pyplot as plt\n",
    "import lightgbm as lgbm\n",
    "from sklearn.base import RegressorMixin, clone"
   ]
  },
  {
   "cell_type": "code",
   "execution_count": 2,
   "id": "53eeab7b-fac4-4d7d-be71-df76eed72033",
   "metadata": {},
   "outputs": [],
   "source": [
    "random_state = 0"
   ]
  },
  {
   "cell_type": "code",
   "execution_count": null,
   "id": "f8084a33-eb54-4418-bbd4-2206cf731d77",
   "metadata": {},
   "outputs": [],
   "source": []
  },
  {
   "cell_type": "code",
   "execution_count": 3,
   "id": "cf1995cc-96a3-41f6-a4d0-a7894e1c8c4c",
   "metadata": {},
   "outputs": [],
   "source": [
    "# Use if repo is cloned and you are running locally\n",
    "df_concrete = pd.read_csv(\"../ODSC_East_2023/concr_mod.csv\")\n",
    "\n",
    "# Use if running on Google Colab\n",
    "# df_concrete = pd.read_csv(\"https://raw.githubusercontent.com/numeristical/resources/refs/heads/master/ODSC_East_2023/concr_mod.csv\")\n",
    "# df_concrete.columns = ['cement', 'blast_furnace_slag', 'fly_ash', 'water', 'superplasticizer', 'coarse_agg', 'fine_agg', 'age_days','strength']"
   ]
  },
  {
   "cell_type": "code",
   "execution_count": null,
   "id": "42409b86-4a20-41e3-9b98-c629cf5f6b24",
   "metadata": {},
   "outputs": [],
   "source": []
  },
  {
   "cell_type": "code",
   "execution_count": 4,
   "id": "8a8eb256-e326-4ca5-98fb-e5e2aa7e2c75",
   "metadata": {},
   "outputs": [
    {
     "data": {
      "text/plain": [
       "3    124\n",
       "5    108\n",
       "0    104\n",
       "4    101\n",
       "9    100\n",
       "2    100\n",
       "6    100\n",
       "7     99\n",
       "1     98\n",
       "8     96\n",
       "Name: count, dtype: int64"
      ]
     },
     "execution_count": 4,
     "metadata": {},
     "output_type": "execute_result"
    }
   ],
   "source": [
    "np.random.seed(random_state)\n",
    "foldnum = np.random.randint(0,10,df_concrete.shape[0])\n",
    "pd.Series(foldnum).value_counts()"
   ]
  },
  {
   "cell_type": "code",
   "execution_count": 5,
   "id": "808454dd-84fe-4fb6-8b1e-0bb144c7ed39",
   "metadata": {},
   "outputs": [],
   "source": [
    "# 50% train, 20% calib, 30% test\n",
    "dfc_train = df_concrete[foldnum<=4]\n",
    "dfc_calib = df_concrete[(foldnum>4) & (foldnum<=6)]\n",
    "dfc_test = df_concrete[foldnum>6]\n",
    "\n",
    "dfc_train_val = pd.concat((dfc_train, dfc_calib))"
   ]
  },
  {
   "cell_type": "code",
   "execution_count": 6,
   "id": "515641ae-1b01-4f47-86f8-e356753cd7c2",
   "metadata": {},
   "outputs": [],
   "source": [
    "features = df_concrete.columns[:-1].tolist()\n",
    "target = 'strength'\n",
    "X_train = dfc_train.loc[:,features]\n",
    "y_train = dfc_train[target].to_numpy()\n",
    "\n",
    "X_calib = dfc_calib.loc[:,features]\n",
    "y_calib = dfc_calib[target].to_numpy()\n",
    "\n",
    "X_test = dfc_test.loc[:,features]\n",
    "y_test = dfc_test[target].to_numpy()\n",
    "\n",
    "X_train_val = dfc_train_val.loc[:,features]\n",
    "y_train_val = dfc_train_val[target].to_numpy()\n"
   ]
  },
  {
   "cell_type": "code",
   "execution_count": 7,
   "id": "35c2627b-9ed6-4afd-97d1-663edf2274a4",
   "metadata": {
    "tags": []
   },
   "outputs": [],
   "source": [
    "# Create a standard point prediction Boosting model\n",
    "lgbm1 = lgbm.LGBMRegressor(\n",
    "    max_depth=8, n_estimators=5000, learning_rate=.02,\n",
    "    random_state=random_state,\n",
    "    verbose=-1\n",
    ")"
   ]
  },
  {
   "cell_type": "code",
   "execution_count": 8,
   "id": "3cadbd48-eca7-4f2d-ae8c-1b5c2884ef75",
   "metadata": {
    "tags": []
   },
   "outputs": [
    {
     "name": "stdout",
     "output_type": "stream",
     "text": [
      "Training until validation scores don't improve for 50 rounds\n",
      "Early stopping, best iteration is:\n",
      "[1704]\tvalid_0's l2: 17.33\n"
     ]
    },
    {
     "data": {
      "text/html": [
       "<style>#sk-container-id-1 {\n",
       "  /* Definition of color scheme common for light and dark mode */\n",
       "  --sklearn-color-text: black;\n",
       "  --sklearn-color-line: gray;\n",
       "  /* Definition of color scheme for unfitted estimators */\n",
       "  --sklearn-color-unfitted-level-0: #fff5e6;\n",
       "  --sklearn-color-unfitted-level-1: #f6e4d2;\n",
       "  --sklearn-color-unfitted-level-2: #ffe0b3;\n",
       "  --sklearn-color-unfitted-level-3: chocolate;\n",
       "  /* Definition of color scheme for fitted estimators */\n",
       "  --sklearn-color-fitted-level-0: #f0f8ff;\n",
       "  --sklearn-color-fitted-level-1: #d4ebff;\n",
       "  --sklearn-color-fitted-level-2: #b3dbfd;\n",
       "  --sklearn-color-fitted-level-3: cornflowerblue;\n",
       "\n",
       "  /* Specific color for light theme */\n",
       "  --sklearn-color-text-on-default-background: var(--sg-text-color, var(--theme-code-foreground, var(--jp-content-font-color1, black)));\n",
       "  --sklearn-color-background: var(--sg-background-color, var(--theme-background, var(--jp-layout-color0, white)));\n",
       "  --sklearn-color-border-box: var(--sg-text-color, var(--theme-code-foreground, var(--jp-content-font-color1, black)));\n",
       "  --sklearn-color-icon: #696969;\n",
       "\n",
       "  @media (prefers-color-scheme: dark) {\n",
       "    /* Redefinition of color scheme for dark theme */\n",
       "    --sklearn-color-text-on-default-background: var(--sg-text-color, var(--theme-code-foreground, var(--jp-content-font-color1, white)));\n",
       "    --sklearn-color-background: var(--sg-background-color, var(--theme-background, var(--jp-layout-color0, #111)));\n",
       "    --sklearn-color-border-box: var(--sg-text-color, var(--theme-code-foreground, var(--jp-content-font-color1, white)));\n",
       "    --sklearn-color-icon: #878787;\n",
       "  }\n",
       "}\n",
       "\n",
       "#sk-container-id-1 {\n",
       "  color: var(--sklearn-color-text);\n",
       "}\n",
       "\n",
       "#sk-container-id-1 pre {\n",
       "  padding: 0;\n",
       "}\n",
       "\n",
       "#sk-container-id-1 input.sk-hidden--visually {\n",
       "  border: 0;\n",
       "  clip: rect(1px 1px 1px 1px);\n",
       "  clip: rect(1px, 1px, 1px, 1px);\n",
       "  height: 1px;\n",
       "  margin: -1px;\n",
       "  overflow: hidden;\n",
       "  padding: 0;\n",
       "  position: absolute;\n",
       "  width: 1px;\n",
       "}\n",
       "\n",
       "#sk-container-id-1 div.sk-dashed-wrapped {\n",
       "  border: 1px dashed var(--sklearn-color-line);\n",
       "  margin: 0 0.4em 0.5em 0.4em;\n",
       "  box-sizing: border-box;\n",
       "  padding-bottom: 0.4em;\n",
       "  background-color: var(--sklearn-color-background);\n",
       "}\n",
       "\n",
       "#sk-container-id-1 div.sk-container {\n",
       "  /* jupyter's `normalize.less` sets `[hidden] { display: none; }`\n",
       "     but bootstrap.min.css set `[hidden] { display: none !important; }`\n",
       "     so we also need the `!important` here to be able to override the\n",
       "     default hidden behavior on the sphinx rendered scikit-learn.org.\n",
       "     See: https://github.com/scikit-learn/scikit-learn/issues/21755 */\n",
       "  display: inline-block !important;\n",
       "  position: relative;\n",
       "}\n",
       "\n",
       "#sk-container-id-1 div.sk-text-repr-fallback {\n",
       "  display: none;\n",
       "}\n",
       "\n",
       "div.sk-parallel-item,\n",
       "div.sk-serial,\n",
       "div.sk-item {\n",
       "  /* draw centered vertical line to link estimators */\n",
       "  background-image: linear-gradient(var(--sklearn-color-text-on-default-background), var(--sklearn-color-text-on-default-background));\n",
       "  background-size: 2px 100%;\n",
       "  background-repeat: no-repeat;\n",
       "  background-position: center center;\n",
       "}\n",
       "\n",
       "/* Parallel-specific style estimator block */\n",
       "\n",
       "#sk-container-id-1 div.sk-parallel-item::after {\n",
       "  content: \"\";\n",
       "  width: 100%;\n",
       "  border-bottom: 2px solid var(--sklearn-color-text-on-default-background);\n",
       "  flex-grow: 1;\n",
       "}\n",
       "\n",
       "#sk-container-id-1 div.sk-parallel {\n",
       "  display: flex;\n",
       "  align-items: stretch;\n",
       "  justify-content: center;\n",
       "  background-color: var(--sklearn-color-background);\n",
       "  position: relative;\n",
       "}\n",
       "\n",
       "#sk-container-id-1 div.sk-parallel-item {\n",
       "  display: flex;\n",
       "  flex-direction: column;\n",
       "}\n",
       "\n",
       "#sk-container-id-1 div.sk-parallel-item:first-child::after {\n",
       "  align-self: flex-end;\n",
       "  width: 50%;\n",
       "}\n",
       "\n",
       "#sk-container-id-1 div.sk-parallel-item:last-child::after {\n",
       "  align-self: flex-start;\n",
       "  width: 50%;\n",
       "}\n",
       "\n",
       "#sk-container-id-1 div.sk-parallel-item:only-child::after {\n",
       "  width: 0;\n",
       "}\n",
       "\n",
       "/* Serial-specific style estimator block */\n",
       "\n",
       "#sk-container-id-1 div.sk-serial {\n",
       "  display: flex;\n",
       "  flex-direction: column;\n",
       "  align-items: center;\n",
       "  background-color: var(--sklearn-color-background);\n",
       "  padding-right: 1em;\n",
       "  padding-left: 1em;\n",
       "}\n",
       "\n",
       "\n",
       "/* Toggleable style: style used for estimator/Pipeline/ColumnTransformer box that is\n",
       "clickable and can be expanded/collapsed.\n",
       "- Pipeline and ColumnTransformer use this feature and define the default style\n",
       "- Estimators will overwrite some part of the style using the `sk-estimator` class\n",
       "*/\n",
       "\n",
       "/* Pipeline and ColumnTransformer style (default) */\n",
       "\n",
       "#sk-container-id-1 div.sk-toggleable {\n",
       "  /* Default theme specific background. It is overwritten whether we have a\n",
       "  specific estimator or a Pipeline/ColumnTransformer */\n",
       "  background-color: var(--sklearn-color-background);\n",
       "}\n",
       "\n",
       "/* Toggleable label */\n",
       "#sk-container-id-1 label.sk-toggleable__label {\n",
       "  cursor: pointer;\n",
       "  display: block;\n",
       "  width: 100%;\n",
       "  margin-bottom: 0;\n",
       "  padding: 0.5em;\n",
       "  box-sizing: border-box;\n",
       "  text-align: center;\n",
       "}\n",
       "\n",
       "#sk-container-id-1 label.sk-toggleable__label-arrow:before {\n",
       "  /* Arrow on the left of the label */\n",
       "  content: \"▸\";\n",
       "  float: left;\n",
       "  margin-right: 0.25em;\n",
       "  color: var(--sklearn-color-icon);\n",
       "}\n",
       "\n",
       "#sk-container-id-1 label.sk-toggleable__label-arrow:hover:before {\n",
       "  color: var(--sklearn-color-text);\n",
       "}\n",
       "\n",
       "/* Toggleable content - dropdown */\n",
       "\n",
       "#sk-container-id-1 div.sk-toggleable__content {\n",
       "  max-height: 0;\n",
       "  max-width: 0;\n",
       "  overflow: hidden;\n",
       "  text-align: left;\n",
       "  /* unfitted */\n",
       "  background-color: var(--sklearn-color-unfitted-level-0);\n",
       "}\n",
       "\n",
       "#sk-container-id-1 div.sk-toggleable__content.fitted {\n",
       "  /* fitted */\n",
       "  background-color: var(--sklearn-color-fitted-level-0);\n",
       "}\n",
       "\n",
       "#sk-container-id-1 div.sk-toggleable__content pre {\n",
       "  margin: 0.2em;\n",
       "  border-radius: 0.25em;\n",
       "  color: var(--sklearn-color-text);\n",
       "  /* unfitted */\n",
       "  background-color: var(--sklearn-color-unfitted-level-0);\n",
       "}\n",
       "\n",
       "#sk-container-id-1 div.sk-toggleable__content.fitted pre {\n",
       "  /* unfitted */\n",
       "  background-color: var(--sklearn-color-fitted-level-0);\n",
       "}\n",
       "\n",
       "#sk-container-id-1 input.sk-toggleable__control:checked~div.sk-toggleable__content {\n",
       "  /* Expand drop-down */\n",
       "  max-height: 200px;\n",
       "  max-width: 100%;\n",
       "  overflow: auto;\n",
       "}\n",
       "\n",
       "#sk-container-id-1 input.sk-toggleable__control:checked~label.sk-toggleable__label-arrow:before {\n",
       "  content: \"▾\";\n",
       "}\n",
       "\n",
       "/* Pipeline/ColumnTransformer-specific style */\n",
       "\n",
       "#sk-container-id-1 div.sk-label input.sk-toggleable__control:checked~label.sk-toggleable__label {\n",
       "  color: var(--sklearn-color-text);\n",
       "  background-color: var(--sklearn-color-unfitted-level-2);\n",
       "}\n",
       "\n",
       "#sk-container-id-1 div.sk-label.fitted input.sk-toggleable__control:checked~label.sk-toggleable__label {\n",
       "  background-color: var(--sklearn-color-fitted-level-2);\n",
       "}\n",
       "\n",
       "/* Estimator-specific style */\n",
       "\n",
       "/* Colorize estimator box */\n",
       "#sk-container-id-1 div.sk-estimator input.sk-toggleable__control:checked~label.sk-toggleable__label {\n",
       "  /* unfitted */\n",
       "  background-color: var(--sklearn-color-unfitted-level-2);\n",
       "}\n",
       "\n",
       "#sk-container-id-1 div.sk-estimator.fitted input.sk-toggleable__control:checked~label.sk-toggleable__label {\n",
       "  /* fitted */\n",
       "  background-color: var(--sklearn-color-fitted-level-2);\n",
       "}\n",
       "\n",
       "#sk-container-id-1 div.sk-label label.sk-toggleable__label,\n",
       "#sk-container-id-1 div.sk-label label {\n",
       "  /* The background is the default theme color */\n",
       "  color: var(--sklearn-color-text-on-default-background);\n",
       "}\n",
       "\n",
       "/* On hover, darken the color of the background */\n",
       "#sk-container-id-1 div.sk-label:hover label.sk-toggleable__label {\n",
       "  color: var(--sklearn-color-text);\n",
       "  background-color: var(--sklearn-color-unfitted-level-2);\n",
       "}\n",
       "\n",
       "/* Label box, darken color on hover, fitted */\n",
       "#sk-container-id-1 div.sk-label.fitted:hover label.sk-toggleable__label.fitted {\n",
       "  color: var(--sklearn-color-text);\n",
       "  background-color: var(--sklearn-color-fitted-level-2);\n",
       "}\n",
       "\n",
       "/* Estimator label */\n",
       "\n",
       "#sk-container-id-1 div.sk-label label {\n",
       "  font-family: monospace;\n",
       "  font-weight: bold;\n",
       "  display: inline-block;\n",
       "  line-height: 1.2em;\n",
       "}\n",
       "\n",
       "#sk-container-id-1 div.sk-label-container {\n",
       "  text-align: center;\n",
       "}\n",
       "\n",
       "/* Estimator-specific */\n",
       "#sk-container-id-1 div.sk-estimator {\n",
       "  font-family: monospace;\n",
       "  border: 1px dotted var(--sklearn-color-border-box);\n",
       "  border-radius: 0.25em;\n",
       "  box-sizing: border-box;\n",
       "  margin-bottom: 0.5em;\n",
       "  /* unfitted */\n",
       "  background-color: var(--sklearn-color-unfitted-level-0);\n",
       "}\n",
       "\n",
       "#sk-container-id-1 div.sk-estimator.fitted {\n",
       "  /* fitted */\n",
       "  background-color: var(--sklearn-color-fitted-level-0);\n",
       "}\n",
       "\n",
       "/* on hover */\n",
       "#sk-container-id-1 div.sk-estimator:hover {\n",
       "  /* unfitted */\n",
       "  background-color: var(--sklearn-color-unfitted-level-2);\n",
       "}\n",
       "\n",
       "#sk-container-id-1 div.sk-estimator.fitted:hover {\n",
       "  /* fitted */\n",
       "  background-color: var(--sklearn-color-fitted-level-2);\n",
       "}\n",
       "\n",
       "/* Specification for estimator info (e.g. \"i\" and \"?\") */\n",
       "\n",
       "/* Common style for \"i\" and \"?\" */\n",
       "\n",
       ".sk-estimator-doc-link,\n",
       "a:link.sk-estimator-doc-link,\n",
       "a:visited.sk-estimator-doc-link {\n",
       "  float: right;\n",
       "  font-size: smaller;\n",
       "  line-height: 1em;\n",
       "  font-family: monospace;\n",
       "  background-color: var(--sklearn-color-background);\n",
       "  border-radius: 1em;\n",
       "  height: 1em;\n",
       "  width: 1em;\n",
       "  text-decoration: none !important;\n",
       "  margin-left: 1ex;\n",
       "  /* unfitted */\n",
       "  border: var(--sklearn-color-unfitted-level-1) 1pt solid;\n",
       "  color: var(--sklearn-color-unfitted-level-1);\n",
       "}\n",
       "\n",
       ".sk-estimator-doc-link.fitted,\n",
       "a:link.sk-estimator-doc-link.fitted,\n",
       "a:visited.sk-estimator-doc-link.fitted {\n",
       "  /* fitted */\n",
       "  border: var(--sklearn-color-fitted-level-1) 1pt solid;\n",
       "  color: var(--sklearn-color-fitted-level-1);\n",
       "}\n",
       "\n",
       "/* On hover */\n",
       "div.sk-estimator:hover .sk-estimator-doc-link:hover,\n",
       ".sk-estimator-doc-link:hover,\n",
       "div.sk-label-container:hover .sk-estimator-doc-link:hover,\n",
       ".sk-estimator-doc-link:hover {\n",
       "  /* unfitted */\n",
       "  background-color: var(--sklearn-color-unfitted-level-3);\n",
       "  color: var(--sklearn-color-background);\n",
       "  text-decoration: none;\n",
       "}\n",
       "\n",
       "div.sk-estimator.fitted:hover .sk-estimator-doc-link.fitted:hover,\n",
       ".sk-estimator-doc-link.fitted:hover,\n",
       "div.sk-label-container:hover .sk-estimator-doc-link.fitted:hover,\n",
       ".sk-estimator-doc-link.fitted:hover {\n",
       "  /* fitted */\n",
       "  background-color: var(--sklearn-color-fitted-level-3);\n",
       "  color: var(--sklearn-color-background);\n",
       "  text-decoration: none;\n",
       "}\n",
       "\n",
       "/* Span, style for the box shown on hovering the info icon */\n",
       ".sk-estimator-doc-link span {\n",
       "  display: none;\n",
       "  z-index: 9999;\n",
       "  position: relative;\n",
       "  font-weight: normal;\n",
       "  right: .2ex;\n",
       "  padding: .5ex;\n",
       "  margin: .5ex;\n",
       "  width: min-content;\n",
       "  min-width: 20ex;\n",
       "  max-width: 50ex;\n",
       "  color: var(--sklearn-color-text);\n",
       "  box-shadow: 2pt 2pt 4pt #999;\n",
       "  /* unfitted */\n",
       "  background: var(--sklearn-color-unfitted-level-0);\n",
       "  border: .5pt solid var(--sklearn-color-unfitted-level-3);\n",
       "}\n",
       "\n",
       ".sk-estimator-doc-link.fitted span {\n",
       "  /* fitted */\n",
       "  background: var(--sklearn-color-fitted-level-0);\n",
       "  border: var(--sklearn-color-fitted-level-3);\n",
       "}\n",
       "\n",
       ".sk-estimator-doc-link:hover span {\n",
       "  display: block;\n",
       "}\n",
       "\n",
       "/* \"?\"-specific style due to the `<a>` HTML tag */\n",
       "\n",
       "#sk-container-id-1 a.estimator_doc_link {\n",
       "  float: right;\n",
       "  font-size: 1rem;\n",
       "  line-height: 1em;\n",
       "  font-family: monospace;\n",
       "  background-color: var(--sklearn-color-background);\n",
       "  border-radius: 1rem;\n",
       "  height: 1rem;\n",
       "  width: 1rem;\n",
       "  text-decoration: none;\n",
       "  /* unfitted */\n",
       "  color: var(--sklearn-color-unfitted-level-1);\n",
       "  border: var(--sklearn-color-unfitted-level-1) 1pt solid;\n",
       "}\n",
       "\n",
       "#sk-container-id-1 a.estimator_doc_link.fitted {\n",
       "  /* fitted */\n",
       "  border: var(--sklearn-color-fitted-level-1) 1pt solid;\n",
       "  color: var(--sklearn-color-fitted-level-1);\n",
       "}\n",
       "\n",
       "/* On hover */\n",
       "#sk-container-id-1 a.estimator_doc_link:hover {\n",
       "  /* unfitted */\n",
       "  background-color: var(--sklearn-color-unfitted-level-3);\n",
       "  color: var(--sklearn-color-background);\n",
       "  text-decoration: none;\n",
       "}\n",
       "\n",
       "#sk-container-id-1 a.estimator_doc_link.fitted:hover {\n",
       "  /* fitted */\n",
       "  background-color: var(--sklearn-color-fitted-level-3);\n",
       "}\n",
       "</style><div id=\"sk-container-id-1\" class=\"sk-top-container\"><div class=\"sk-text-repr-fallback\"><pre>LGBMRegressor(learning_rate=0.02, max_depth=8, n_estimators=5000,\n",
       "              random_state=0, verbose=-1)</pre><b>In a Jupyter environment, please rerun this cell to show the HTML representation or trust the notebook. <br />On GitHub, the HTML representation is unable to render, please try loading this page with nbviewer.org.</b></div><div class=\"sk-container\" hidden><div class=\"sk-item\"><div class=\"sk-estimator fitted sk-toggleable\"><input class=\"sk-toggleable__control sk-hidden--visually\" id=\"sk-estimator-id-1\" type=\"checkbox\" checked><label for=\"sk-estimator-id-1\" class=\"sk-toggleable__label fitted sk-toggleable__label-arrow fitted\">&nbsp;LGBMRegressor<span class=\"sk-estimator-doc-link fitted\">i<span>Fitted</span></span></label><div class=\"sk-toggleable__content fitted\"><pre>LGBMRegressor(learning_rate=0.02, max_depth=8, n_estimators=5000,\n",
       "              random_state=0, verbose=-1)</pre></div> </div></div></div></div>"
      ],
      "text/plain": [
       "LGBMRegressor(learning_rate=0.02, max_depth=8, n_estimators=5000,\n",
       "              random_state=0, verbose=-1)"
      ]
     },
     "execution_count": 8,
     "metadata": {},
     "output_type": "execute_result"
    }
   ],
   "source": [
    "# Fit it on training data (using calib data for early stopping)\n",
    "lgbm1.fit(X_train, y_train, eval_set=[(X_calib, y_calib)],\n",
    "                          callbacks=[lgbm.early_stopping(stopping_rounds=50)])"
   ]
  },
  {
   "cell_type": "code",
   "execution_count": 9,
   "id": "16c7f837-06da-4cf8-a8b2-fc1afa3d1f29",
   "metadata": {
    "tags": []
   },
   "outputs": [
    {
     "data": {
      "text/plain": [
       "array([63.66080046, 39.66970816, 30.44380293, 52.62871559])"
      ]
     },
     "execution_count": 9,
     "metadata": {},
     "output_type": "execute_result"
    }
   ],
   "source": [
    "# Make predictions on the calibration set\n",
    "calib_preds = lgbm1.predict(X_calib)\n",
    "calib_preds[:4]"
   ]
  },
  {
   "cell_type": "code",
   "execution_count": 10,
   "id": "c73e93c8-9489-4fda-afd9-49fd04bbf45b",
   "metadata": {
    "tags": []
   },
   "outputs": [],
   "source": [
    "# Compute and sort the residuals\n",
    "resids = np.abs(y_calib-calib_preds)\n",
    "sorted_resids = np.sort(resids)\n",
    "num_pts_calib = len(y_calib)\n",
    "q_val=.8\n"
   ]
  },
  {
   "cell_type": "markdown",
   "id": "9f5181ea-5af4-4cbb-84c5-e88bf326d913",
   "metadata": {},
   "source": [
    "Recall, if we had 99 points, we want to use the 80th largest one (which means index 79 in python).\n",
    "\n",
    "Three sources of confusion:\n",
    "- $n$ vs $n+1$ (points vs intervals)\n",
    "- rounding up (to be conservative)\n",
    "- the pythonic 0-indexing\n",
    "\n",
    "Generally, for n points, we want the following calculation:\n",
    "\n",
    "$q * ((n+1)/ n) * n$ (rounded up) gives us the order statistic we want.\n",
    "\n",
    "(then since Python is zero-indexed, we subtract one...)\n"
   ]
  },
  {
   "cell_type": "code",
   "execution_count": 11,
   "id": "e7bacd3d-ad88-4311-b0d0-7f9f8599af9e",
   "metadata": {
    "tags": []
   },
   "outputs": [
    {
     "data": {
      "text/plain": [
       "(208, 167, np.float64(4.4630654572083515))"
      ]
     },
     "execution_count": 11,
     "metadata": {},
     "output_type": "execute_result"
    }
   ],
   "source": [
    "# Calculate the index giving you the \"right\" residual in the list\n",
    "# i.e. 80% of the time we expect a future residual to be <= to this value (the adjustment)\n",
    "index_to_use = int(np.ceil(q_val * (num_pts_calib +1))-1)\n",
    "adj = sorted_resids[index_to_use]\n",
    "num_pts_calib, index_to_use, adj"
   ]
  },
  {
   "cell_type": "markdown",
   "id": "38b934a4-a151-4934-9447-dea3d4e972d9",
   "metadata": {},
   "source": [
    "Let's try it out..."
   ]
  },
  {
   "cell_type": "code",
   "execution_count": 12,
   "id": "99a73802-86c3-4d33-b326-728c43c7cda5",
   "metadata": {
    "tags": []
   },
   "outputs": [],
   "source": [
    "point_preds_test = lgbm1.predict(X_test)"
   ]
  },
  {
   "cell_type": "code",
   "execution_count": 13,
   "id": "61511565-b693-4470-aecb-83620eef16c2",
   "metadata": {
    "tags": []
   },
   "outputs": [],
   "source": [
    "left_ep_scp = point_preds_test - adj\n",
    "right_ep_scp = point_preds_test + adj"
   ]
  },
  {
   "cell_type": "code",
   "execution_count": 14,
   "id": "99b59ea4-406c-4768-899d-9a8b928536c5",
   "metadata": {
    "tags": []
   },
   "outputs": [
    {
     "data": {
      "text/plain": [
       "array([[35.49370891, 44.41983982],\n",
       "       [46.64037689, 55.56650781],\n",
       "       [33.69561546, 42.62174637],\n",
       "       [37.74265937, 46.66879028]])"
      ]
     },
     "execution_count": 14,
     "metadata": {},
     "output_type": "execute_result"
    }
   ],
   "source": [
    "pis_test_scp = np.vstack((left_ep_scp, right_ep_scp)).T\n",
    "pis_test_scp[:4,:]"
   ]
  },
  {
   "cell_type": "code",
   "execution_count": 15,
   "id": "30128b8a-6447-4e59-9438-64a0913b47c6",
   "metadata": {
    "tags": []
   },
   "outputs": [
    {
     "data": {
      "text/plain": [
       "(np.float64(0.7593220338983051), np.float64(8.926130914416703))"
      ]
     },
     "execution_count": 15,
     "metadata": {},
     "output_type": "execute_result"
    }
   ],
   "source": [
    "coverage_res_scp = (y_test >= pis_test_scp[:,0]) & (y_test<=pis_test_scp[:,1])\n",
    "np.mean(coverage_res_scp), np.mean(pis_test_scp[:,1]-pis_test_scp[:,0])"
   ]
  },
  {
   "cell_type": "markdown",
   "id": "f789ded6-8274-4d79-bf70-0e4b719a9214",
   "metadata": {
    "tags": []
   },
   "source": [
    "We get the desired coverage, but below we see that this is not uniform"
   ]
  },
  {
   "cell_type": "code",
   "execution_count": 16,
   "id": "5fa64a19-cd9b-47c3-96f6-d50a668ee5f8",
   "metadata": {
    "tags": []
   },
   "outputs": [
    {
     "data": {
      "text/plain": [
       "(np.float64(0.9333333333333333), np.float64(0.7142857142857143))"
      ]
     },
     "execution_count": 16,
     "metadata": {},
     "output_type": "execute_result"
    }
   ],
   "source": [
    "np.mean(coverage_res_scp[y_test<20]), np.mean(coverage_res_scp[y_test>=60])"
   ]
  },
  {
   "cell_type": "code",
   "execution_count": 17,
   "id": "ae4ebac6-2116-441c-90ac-599d35c4b7df",
   "metadata": {
    "tags": []
   },
   "outputs": [
    {
     "data": {
      "text/plain": [
       "np.float64(8.926130914416703)"
      ]
     },
     "execution_count": 17,
     "metadata": {},
     "output_type": "execute_result"
    }
   ],
   "source": [
    "interval_widths_scp = pis_test_scp[:,1]-pis_test_scp[:,0]\n",
    "np.mean(interval_widths_scp)"
   ]
  },
  {
   "cell_type": "code",
   "execution_count": 18,
   "id": "6034e466-4bed-4c06-92f5-b8237774b2f1",
   "metadata": {
    "tags": []
   },
   "outputs": [
    {
     "data": {
      "text/plain": [
       "array([8.92613091, 8.92613091, 8.92613091, 8.92613091, 8.92613091,\n",
       "       8.92613091, 8.92613091, 8.92613091, 8.92613091, 8.92613091])"
      ]
     },
     "execution_count": 18,
     "metadata": {},
     "output_type": "execute_result"
    }
   ],
   "source": [
    "interval_widths_scp[:10]"
   ]
  },
  {
   "cell_type": "markdown",
   "id": "df59f212-f292-4765-babb-9708e6ad2177",
   "metadata": {},
   "source": [
    "## **Q**: Is there any flavor of Conformal Prediction that can address these limitations?\n",
    "\n",
    "## **A**: Yes!  Enter Conformal Quantile Regression (CQR)"
   ]
  },
  {
   "cell_type": "markdown",
   "id": "256bb410-205d-4963-aee0-b6803ef894d7",
   "metadata": {},
   "source": [
    "<br>\n",
    "<br>\n",
    "<br>\n",
    "<br>\n",
    "<br>\n",
    "<br>\n",
    "<br>\n",
    "<br>"
   ]
  },
  {
   "cell_type": "markdown",
   "id": "2f10c337-7a6c-4e27-99d9-793c54a9625b",
   "metadata": {},
   "source": [
    "## Background on Quantile Regression\n",
    "Quantile Regression is a problem where you want to predict the quantile of a distribution.\n",
    "\n",
    "For example, you want to predict the .1 (10\\%) quantile, that means that you want to be \"too high\" 10\\% of the time and \"too low\" 90\\% of the time.\n",
    "\n",
    "In machine learning, this would be done by using a loss function:\n",
    "\n",
    "$L(y_t, y_p) = \\max\\{.1(y_p - y_t) + .9(y_t-y_p)\\}$\n",
    "\n",
    "More generally, for $\\alpha$ quantile:\n",
    "\n",
    "$L(y_t, y_p) = \\max\\{\\alpha(y_p - y_t) + (1-\\alpha)(y_t-y_p)\\}$"
   ]
  },
  {
   "cell_type": "code",
   "execution_count": null,
   "id": "ae1ec621-e84b-4900-9838-980505ab70c4",
   "metadata": {},
   "outputs": [],
   "source": [
    "\n"
   ]
  },
  {
   "cell_type": "code",
   "execution_count": 19,
   "id": "a6541887-376d-42da-befe-4edaaf666ce7",
   "metadata": {},
   "outputs": [],
   "source": [
    "def qlf(y_true, y_pred, alpha):\n",
    "    return(np.max([alpha*(y_true-y_pred), (1-alpha)*(y_pred-y_true)]))"
   ]
  },
  {
   "cell_type": "code",
   "execution_count": 20,
   "id": "9cee6a64-3013-4576-89f3-27e8707aa24d",
   "metadata": {},
   "outputs": [
    {
     "data": {
      "image/png": "[encoded data removed]",
      "text/plain": [
       "<Figure size 640x480 with 1 Axes>"
      ]
     },
     "metadata": {},
     "output_type": "display_data"
    }
   ],
   "source": [
    "xvals = np.linspace(0,7,71)\n",
    "plt.plot(xvals, [qlf(5,x,.1) for x in xvals])\n",
    "plt.grid()\n",
    "plt.title('Quantile Loss Fn for alpha =.1');"
   ]
  },
  {
   "cell_type": "markdown",
   "id": "573e8d1a-f72c-4365-81ba-73df1d79aee5",
   "metadata": {},
   "source": [
    "## Idea - it is 9 times worse to be bigger than the true value than to be smaller than the true value (for $\\alpha = .1$)"
   ]
  },
  {
   "cell_type": "markdown",
   "id": "a8f6d636-2e81-49ef-95b2-c1a6277aa597",
   "metadata": {},
   "source": [
    "<br>\n",
    "<br>\n",
    "<br>\n",
    "<br>\n",
    "<br>\n",
    "<br>\n",
    "<br>\n",
    "<br>"
   ]
  },
  {
   "cell_type": "markdown",
   "id": "24b0d05f-2320-4a2f-a268-6e556ba2a1af",
   "metadata": {},
   "source": [
    "## Conformalized Quantile Regression - How it works\n",
    " - ### 1) Choose your *coverage* value $c$, \n",
    "  ##### e.g. I want to cover the true value 80\\% of the time => $c=.8$\n",
    " - ### 2) Train two quantile regression models:\n",
    " ##### one for the left endpoint ($\\alpha_{l} = \\frac{1-c}{2}$) (=.1 in this example)\n",
    " ##### one for the right endpoint ($\\alpha_{r} = 1-\\frac{1-c}{2} = 1-\\alpha_{l}$). (=.9 in this example) \n",
    " - ### 3) Use this \"naive\" model to make interval predictions on the calibration set.  Calculate the residuals $Z_i$ on the calibration set as the *distance to the predicted interval*.  \n",
    " ##### E.g. if you predict the interval $(20,50)$ and the answer is 15, the residual is 5, if the answer is 70, the residual is 20, if the answer is 40, the distance is 0.\n",
    " - ### 4) If your desired coverage is, say, .8, and you have 99 points in your calibration set, choose the 80th biggest residual ($A_{80}$) and widen your interval by that amount.\n",
    " - ### 5) In other words, when the \"naive\" QR model predicts $(b_l, b_r)$, update the prediction interval to be $(b_l-A_{80}, b_r + A_{80}$)\n",
    " - ### 6) By the same arguments as before, the (unconditional) probability that a prediction interval contains the true value is $c$ (.8 in this example)\n",
    " \n",
    " "
   ]
  },
  {
   "cell_type": "markdown",
   "id": "3f7545af-607d-46ea-ba8f-7f15066455e4",
   "metadata": {},
   "source": [
    "<br>\n",
    "<br>\n",
    "<br>\n"
   ]
  },
  {
   "cell_type": "markdown",
   "id": "cb20bc0d-0620-4151-9eb7-7c008b23f4f9",
   "metadata": {},
   "source": [
    "## Q: Why is this so much better than \"regular\" Conformal Prediction\n",
    "\n",
    "## A: Here, the initial intervals are of various sizes, and can reflect the \"signal\" in the data.  \n",
    "#### If the data suggests a narrower range for the outcome, the \"naive\" interval will be narrower\n",
    "#### (and conversely, for when the data shows a wide range)\n",
    "### Only the *correction* to the interval is \"one size fits all\""
   ]
  },
  {
   "cell_type": "code",
   "execution_count": null,
   "id": "4d246882-c1e7-40db-97a3-e1058f1e90c9",
   "metadata": {},
   "outputs": [],
   "source": []
  },
  {
   "cell_type": "code",
   "execution_count": null,
   "id": "de433cd1-c7d1-4317-a838-9c15445d0075",
   "metadata": {},
   "outputs": [],
   "source": []
  },
  {
   "cell_type": "code",
   "execution_count": null,
   "id": "99bc6bb5-afe9-4f60-82b5-c5d5f0c0be73",
   "metadata": {},
   "outputs": [],
   "source": [
    "\n",
    "\n"
   ]
  },
  {
   "cell_type": "code",
   "execution_count": 21,
   "id": "51b3ef59-32cc-4af0-95ab-0256e1920bb6",
   "metadata": {},
   "outputs": [
    {
     "data": {
      "text/html": [
       "<style>#sk-container-id-2 {\n",
       "  /* Definition of color scheme common for light and dark mode */\n",
       "  --sklearn-color-text: black;\n",
       "  --sklearn-color-line: gray;\n",
       "  /* Definition of color scheme for unfitted estimators */\n",
       "  --sklearn-color-unfitted-level-0: #fff5e6;\n",
       "  --sklearn-color-unfitted-level-1: #f6e4d2;\n",
       "  --sklearn-color-unfitted-level-2: #ffe0b3;\n",
       "  --sklearn-color-unfitted-level-3: chocolate;\n",
       "  /* Definition of color scheme for fitted estimators */\n",
       "  --sklearn-color-fitted-level-0: #f0f8ff;\n",
       "  --sklearn-color-fitted-level-1: #d4ebff;\n",
       "  --sklearn-color-fitted-level-2: #b3dbfd;\n",
       "  --sklearn-color-fitted-level-3: cornflowerblue;\n",
       "\n",
       "  /* Specific color for light theme */\n",
       "  --sklearn-color-text-on-default-background: var(--sg-text-color, var(--theme-code-foreground, var(--jp-content-font-color1, black)));\n",
       "  --sklearn-color-background: var(--sg-background-color, var(--theme-background, var(--jp-layout-color0, white)));\n",
       "  --sklearn-color-border-box: var(--sg-text-color, var(--theme-code-foreground, var(--jp-content-font-color1, black)));\n",
       "  --sklearn-color-icon: #696969;\n",
       "\n",
       "  @media (prefers-color-scheme: dark) {\n",
       "    /* Redefinition of color scheme for dark theme */\n",
       "    --sklearn-color-text-on-default-background: var(--sg-text-color, var(--theme-code-foreground, var(--jp-content-font-color1, white)));\n",
       "    --sklearn-color-background: var(--sg-background-color, var(--theme-background, var(--jp-layout-color0, #111)));\n",
       "    --sklearn-color-border-box: var(--sg-text-color, var(--theme-code-foreground, var(--jp-content-font-color1, white)));\n",
       "    --sklearn-color-icon: #878787;\n",
       "  }\n",
       "}\n",
       "\n",
       "#sk-container-id-2 {\n",
       "  color: var(--sklearn-color-text);\n",
       "}\n",
       "\n",
       "#sk-container-id-2 pre {\n",
       "  padding: 0;\n",
       "}\n",
       "\n",
       "#sk-container-id-2 input.sk-hidden--visually {\n",
       "  border: 0;\n",
       "  clip: rect(1px 1px 1px 1px);\n",
       "  clip: rect(1px, 1px, 1px, 1px);\n",
       "  height: 1px;\n",
       "  margin: -1px;\n",
       "  overflow: hidden;\n",
       "  padding: 0;\n",
       "  position: absolute;\n",
       "  width: 1px;\n",
       "}\n",
       "\n",
       "#sk-container-id-2 div.sk-dashed-wrapped {\n",
       "  border: 1px dashed var(--sklearn-color-line);\n",
       "  margin: 0 0.4em 0.5em 0.4em;\n",
       "  box-sizing: border-box;\n",
       "  padding-bottom: 0.4em;\n",
       "  background-color: var(--sklearn-color-background);\n",
       "}\n",
       "\n",
       "#sk-container-id-2 div.sk-container {\n",
       "  /* jupyter's `normalize.less` sets `[hidden] { display: none; }`\n",
       "     but bootstrap.min.css set `[hidden] { display: none !important; }`\n",
       "     so we also need the `!important` here to be able to override the\n",
       "     default hidden behavior on the sphinx rendered scikit-learn.org.\n",
       "     See: https://github.com/scikit-learn/scikit-learn/issues/21755 */\n",
       "  display: inline-block !important;\n",
       "  position: relative;\n",
       "}\n",
       "\n",
       "#sk-container-id-2 div.sk-text-repr-fallback {\n",
       "  display: none;\n",
       "}\n",
       "\n",
       "div.sk-parallel-item,\n",
       "div.sk-serial,\n",
       "div.sk-item {\n",
       "  /* draw centered vertical line to link estimators */\n",
       "  background-image: linear-gradient(var(--sklearn-color-text-on-default-background), var(--sklearn-color-text-on-default-background));\n",
       "  background-size: 2px 100%;\n",
       "  background-repeat: no-repeat;\n",
       "  background-position: center center;\n",
       "}\n",
       "\n",
       "/* Parallel-specific style estimator block */\n",
       "\n",
       "#sk-container-id-2 div.sk-parallel-item::after {\n",
       "  content: \"\";\n",
       "  width: 100%;\n",
       "  border-bottom: 2px solid var(--sklearn-color-text-on-default-background);\n",
       "  flex-grow: 1;\n",
       "}\n",
       "\n",
       "#sk-container-id-2 div.sk-parallel {\n",
       "  display: flex;\n",
       "  align-items: stretch;\n",
       "  justify-content: center;\n",
       "  background-color: var(--sklearn-color-background);\n",
       "  position: relative;\n",
       "}\n",
       "\n",
       "#sk-container-id-2 div.sk-parallel-item {\n",
       "  display: flex;\n",
       "  flex-direction: column;\n",
       "}\n",
       "\n",
       "#sk-container-id-2 div.sk-parallel-item:first-child::after {\n",
       "  align-self: flex-end;\n",
       "  width: 50%;\n",
       "}\n",
       "\n",
       "#sk-container-id-2 div.sk-parallel-item:last-child::after {\n",
       "  align-self: flex-start;\n",
       "  width: 50%;\n",
       "}\n",
       "\n",
       "#sk-container-id-2 div.sk-parallel-item:only-child::after {\n",
       "  width: 0;\n",
       "}\n",
       "\n",
       "/* Serial-specific style estimator block */\n",
       "\n",
       "#sk-container-id-2 div.sk-serial {\n",
       "  display: flex;\n",
       "  flex-direction: column;\n",
       "  align-items: center;\n",
       "  background-color: var(--sklearn-color-background);\n",
       "  padding-right: 1em;\n",
       "  padding-left: 1em;\n",
       "}\n",
       "\n",
       "\n",
       "/* Toggleable style: style used for estimator/Pipeline/ColumnTransformer box that is\n",
       "clickable and can be expanded/collapsed.\n",
       "- Pipeline and ColumnTransformer use this feature and define the default style\n",
       "- Estimators will overwrite some part of the style using the `sk-estimator` class\n",
       "*/\n",
       "\n",
       "/* Pipeline and ColumnTransformer style (default) */\n",
       "\n",
       "#sk-container-id-2 div.sk-toggleable {\n",
       "  /* Default theme specific background. It is overwritten whether we have a\n",
       "  specific estimator or a Pipeline/ColumnTransformer */\n",
       "  background-color: var(--sklearn-color-background);\n",
       "}\n",
       "\n",
       "/* Toggleable label */\n",
       "#sk-container-id-2 label.sk-toggleable__label {\n",
       "  cursor: pointer;\n",
       "  display: block;\n",
       "  width: 100%;\n",
       "  margin-bottom: 0;\n",
       "  padding: 0.5em;\n",
       "  box-sizing: border-box;\n",
       "  text-align: center;\n",
       "}\n",
       "\n",
       "#sk-container-id-2 label.sk-toggleable__label-arrow:before {\n",
       "  /* Arrow on the left of the label */\n",
       "  content: \"▸\";\n",
       "  float: left;\n",
       "  margin-right: 0.25em;\n",
       "  color: var(--sklearn-color-icon);\n",
       "}\n",
       "\n",
       "#sk-container-id-2 label.sk-toggleable__label-arrow:hover:before {\n",
       "  color: var(--sklearn-color-text);\n",
       "}\n",
       "\n",
       "/* Toggleable content - dropdown */\n",
       "\n",
       "#sk-container-id-2 div.sk-toggleable__content {\n",
       "  max-height: 0;\n",
       "  max-width: 0;\n",
       "  overflow: hidden;\n",
       "  text-align: left;\n",
       "  /* unfitted */\n",
       "  background-color: var(--sklearn-color-unfitted-level-0);\n",
       "}\n",
       "\n",
       "#sk-container-id-2 div.sk-toggleable__content.fitted {\n",
       "  /* fitted */\n",
       "  background-color: var(--sklearn-color-fitted-level-0);\n",
       "}\n",
       "\n",
       "#sk-container-id-2 div.sk-toggleable__content pre {\n",
       "  margin: 0.2em;\n",
       "  border-radius: 0.25em;\n",
       "  color: var(--sklearn-color-text);\n",
       "  /* unfitted */\n",
       "  background-color: var(--sklearn-color-unfitted-level-0);\n",
       "}\n",
       "\n",
       "#sk-container-id-2 div.sk-toggleable__content.fitted pre {\n",
       "  /* unfitted */\n",
       "  background-color: var(--sklearn-color-fitted-level-0);\n",
       "}\n",
       "\n",
       "#sk-container-id-2 input.sk-toggleable__control:checked~div.sk-toggleable__content {\n",
       "  /* Expand drop-down */\n",
       "  max-height: 200px;\n",
       "  max-width: 100%;\n",
       "  overflow: auto;\n",
       "}\n",
       "\n",
       "#sk-container-id-2 input.sk-toggleable__control:checked~label.sk-toggleable__label-arrow:before {\n",
       "  content: \"▾\";\n",
       "}\n",
       "\n",
       "/* Pipeline/ColumnTransformer-specific style */\n",
       "\n",
       "#sk-container-id-2 div.sk-label input.sk-toggleable__control:checked~label.sk-toggleable__label {\n",
       "  color: var(--sklearn-color-text);\n",
       "  background-color: var(--sklearn-color-unfitted-level-2);\n",
       "}\n",
       "\n",
       "#sk-container-id-2 div.sk-label.fitted input.sk-toggleable__control:checked~label.sk-toggleable__label {\n",
       "  background-color: var(--sklearn-color-fitted-level-2);\n",
       "}\n",
       "\n",
       "/* Estimator-specific style */\n",
       "\n",
       "/* Colorize estimator box */\n",
       "#sk-container-id-2 div.sk-estimator input.sk-toggleable__control:checked~label.sk-toggleable__label {\n",
       "  /* unfitted */\n",
       "  background-color: var(--sklearn-color-unfitted-level-2);\n",
       "}\n",
       "\n",
       "#sk-container-id-2 div.sk-estimator.fitted input.sk-toggleable__control:checked~label.sk-toggleable__label {\n",
       "  /* fitted */\n",
       "  background-color: var(--sklearn-color-fitted-level-2);\n",
       "}\n",
       "\n",
       "#sk-container-id-2 div.sk-label label.sk-toggleable__label,\n",
       "#sk-container-id-2 div.sk-label label {\n",
       "  /* The background is the default theme color */\n",
       "  color: var(--sklearn-color-text-on-default-background);\n",
       "}\n",
       "\n",
       "/* On hover, darken the color of the background */\n",
       "#sk-container-id-2 div.sk-label:hover label.sk-toggleable__label {\n",
       "  color: var(--sklearn-color-text);\n",
       "  background-color: var(--sklearn-color-unfitted-level-2);\n",
       "}\n",
       "\n",
       "/* Label box, darken color on hover, fitted */\n",
       "#sk-container-id-2 div.sk-label.fitted:hover label.sk-toggleable__label.fitted {\n",
       "  color: var(--sklearn-color-text);\n",
       "  background-color: var(--sklearn-color-fitted-level-2);\n",
       "}\n",
       "\n",
       "/* Estimator label */\n",
       "\n",
       "#sk-container-id-2 div.sk-label label {\n",
       "  font-family: monospace;\n",
       "  font-weight: bold;\n",
       "  display: inline-block;\n",
       "  line-height: 1.2em;\n",
       "}\n",
       "\n",
       "#sk-container-id-2 div.sk-label-container {\n",
       "  text-align: center;\n",
       "}\n",
       "\n",
       "/* Estimator-specific */\n",
       "#sk-container-id-2 div.sk-estimator {\n",
       "  font-family: monospace;\n",
       "  border: 1px dotted var(--sklearn-color-border-box);\n",
       "  border-radius: 0.25em;\n",
       "  box-sizing: border-box;\n",
       "  margin-bottom: 0.5em;\n",
       "  /* unfitted */\n",
       "  background-color: var(--sklearn-color-unfitted-level-0);\n",
       "}\n",
       "\n",
       "#sk-container-id-2 div.sk-estimator.fitted {\n",
       "  /* fitted */\n",
       "  background-color: var(--sklearn-color-fitted-level-0);\n",
       "}\n",
       "\n",
       "/* on hover */\n",
       "#sk-container-id-2 div.sk-estimator:hover {\n",
       "  /* unfitted */\n",
       "  background-color: var(--sklearn-color-unfitted-level-2);\n",
       "}\n",
       "\n",
       "#sk-container-id-2 div.sk-estimator.fitted:hover {\n",
       "  /* fitted */\n",
       "  background-color: var(--sklearn-color-fitted-level-2);\n",
       "}\n",
       "\n",
       "/* Specification for estimator info (e.g. \"i\" and \"?\") */\n",
       "\n",
       "/* Common style for \"i\" and \"?\" */\n",
       "\n",
       ".sk-estimator-doc-link,\n",
       "a:link.sk-estimator-doc-link,\n",
       "a:visited.sk-estimator-doc-link {\n",
       "  float: right;\n",
       "  font-size: smaller;\n",
       "  line-height: 1em;\n",
       "  font-family: monospace;\n",
       "  background-color: var(--sklearn-color-background);\n",
       "  border-radius: 1em;\n",
       "  height: 1em;\n",
       "  width: 1em;\n",
       "  text-decoration: none !important;\n",
       "  margin-left: 1ex;\n",
       "  /* unfitted */\n",
       "  border: var(--sklearn-color-unfitted-level-1) 1pt solid;\n",
       "  color: var(--sklearn-color-unfitted-level-1);\n",
       "}\n",
       "\n",
       ".sk-estimator-doc-link.fitted,\n",
       "a:link.sk-estimator-doc-link.fitted,\n",
       "a:visited.sk-estimator-doc-link.fitted {\n",
       "  /* fitted */\n",
       "  border: var(--sklearn-color-fitted-level-1) 1pt solid;\n",
       "  color: var(--sklearn-color-fitted-level-1);\n",
       "}\n",
       "\n",
       "/* On hover */\n",
       "div.sk-estimator:hover .sk-estimator-doc-link:hover,\n",
       ".sk-estimator-doc-link:hover,\n",
       "div.sk-label-container:hover .sk-estimator-doc-link:hover,\n",
       ".sk-estimator-doc-link:hover {\n",
       "  /* unfitted */\n",
       "  background-color: var(--sklearn-color-unfitted-level-3);\n",
       "  color: var(--sklearn-color-background);\n",
       "  text-decoration: none;\n",
       "}\n",
       "\n",
       "div.sk-estimator.fitted:hover .sk-estimator-doc-link.fitted:hover,\n",
       ".sk-estimator-doc-link.fitted:hover,\n",
       "div.sk-label-container:hover .sk-estimator-doc-link.fitted:hover,\n",
       ".sk-estimator-doc-link.fitted:hover {\n",
       "  /* fitted */\n",
       "  background-color: var(--sklearn-color-fitted-level-3);\n",
       "  color: var(--sklearn-color-background);\n",
       "  text-decoration: none;\n",
       "}\n",
       "\n",
       "/* Span, style for the box shown on hovering the info icon */\n",
       ".sk-estimator-doc-link span {\n",
       "  display: none;\n",
       "  z-index: 9999;\n",
       "  position: relative;\n",
       "  font-weight: normal;\n",
       "  right: .2ex;\n",
       "  padding: .5ex;\n",
       "  margin: .5ex;\n",
       "  width: min-content;\n",
       "  min-width: 20ex;\n",
       "  max-width: 50ex;\n",
       "  color: var(--sklearn-color-text);\n",
       "  box-shadow: 2pt 2pt 4pt #999;\n",
       "  /* unfitted */\n",
       "  background: var(--sklearn-color-unfitted-level-0);\n",
       "  border: .5pt solid var(--sklearn-color-unfitted-level-3);\n",
       "}\n",
       "\n",
       ".sk-estimator-doc-link.fitted span {\n",
       "  /* fitted */\n",
       "  background: var(--sklearn-color-fitted-level-0);\n",
       "  border: var(--sklearn-color-fitted-level-3);\n",
       "}\n",
       "\n",
       ".sk-estimator-doc-link:hover span {\n",
       "  display: block;\n",
       "}\n",
       "\n",
       "/* \"?\"-specific style due to the `<a>` HTML tag */\n",
       "\n",
       "#sk-container-id-2 a.estimator_doc_link {\n",
       "  float: right;\n",
       "  font-size: 1rem;\n",
       "  line-height: 1em;\n",
       "  font-family: monospace;\n",
       "  background-color: var(--sklearn-color-background);\n",
       "  border-radius: 1rem;\n",
       "  height: 1rem;\n",
       "  width: 1rem;\n",
       "  text-decoration: none;\n",
       "  /* unfitted */\n",
       "  color: var(--sklearn-color-unfitted-level-1);\n",
       "  border: var(--sklearn-color-unfitted-level-1) 1pt solid;\n",
       "}\n",
       "\n",
       "#sk-container-id-2 a.estimator_doc_link.fitted {\n",
       "  /* fitted */\n",
       "  border: var(--sklearn-color-fitted-level-1) 1pt solid;\n",
       "  color: var(--sklearn-color-fitted-level-1);\n",
       "}\n",
       "\n",
       "/* On hover */\n",
       "#sk-container-id-2 a.estimator_doc_link:hover {\n",
       "  /* unfitted */\n",
       "  background-color: var(--sklearn-color-unfitted-level-3);\n",
       "  color: var(--sklearn-color-background);\n",
       "  text-decoration: none;\n",
       "}\n",
       "\n",
       "#sk-container-id-2 a.estimator_doc_link.fitted:hover {\n",
       "  /* fitted */\n",
       "  background-color: var(--sklearn-color-fitted-level-3);\n",
       "}\n",
       "</style><div id=\"sk-container-id-2\" class=\"sk-top-container\"><div class=\"sk-text-repr-fallback\"><pre>LGBMRegressor(alpha=0.5, learning_rate=0.02, max_depth=8, n_estimators=5000,\n",
       "              objective=&#x27;quantile&#x27;, random_state=0)</pre><b>In a Jupyter environment, please rerun this cell to show the HTML representation or trust the notebook. <br />On GitHub, the HTML representation is unable to render, please try loading this page with nbviewer.org.</b></div><div class=\"sk-container\" hidden><div class=\"sk-item\"><div class=\"sk-estimator  sk-toggleable\"><input class=\"sk-toggleable__control sk-hidden--visually\" id=\"sk-estimator-id-2\" type=\"checkbox\" checked><label for=\"sk-estimator-id-2\" class=\"sk-toggleable__label  sk-toggleable__label-arrow \">&nbsp;LGBMRegressor<span class=\"sk-estimator-doc-link \">i<span>Not fitted</span></span></label><div class=\"sk-toggleable__content \"><pre>LGBMRegressor(alpha=0.5, learning_rate=0.02, max_depth=8, n_estimators=5000,\n",
       "              objective=&#x27;quantile&#x27;, random_state=0)</pre></div> </div></div></div></div>"
      ],
      "text/plain": [
       "LGBMRegressor(alpha=0.5, learning_rate=0.02, max_depth=8, n_estimators=5000,\n",
       "              objective='quantile', random_state=0)"
      ]
     },
     "execution_count": 21,
     "metadata": {},
     "output_type": "execute_result"
    }
   ],
   "source": [
    "# Define a LGBM model to predict the median...\n",
    "estimator = lgbm.LGBMRegressor(\n",
    "    max_depth=8, n_estimators=5000, learning_rate=.02,\n",
    "    objective='quantile',\n",
    "    alpha=0.5,\n",
    "    random_state=random_state\n",
    ")\n",
    "# estimator.fit(X_train, y_train, eval_set=[(X_calib, y_calib)],\n",
    "#                           callbacks=[lgbm.early_stopping(stopping_rounds=50)])\n",
    "estimator"
   ]
  },
  {
   "cell_type": "code",
   "execution_count": 22,
   "id": "e8cb6147-5b78-4503-993b-50b8a504c0eb",
   "metadata": {},
   "outputs": [],
   "source": [
    "# Make two quantile regression models: \n",
    "# one for the left (.1) quantile\n",
    "# one for the right (.9) quantile\n",
    "estimator_left =  lgbm.LGBMRegressor(\n",
    "    max_depth=6, n_estimators=5000, learning_rate=.02,\n",
    "    objective='quantile',\n",
    "    alpha=0.1,\n",
    "    random_state=random_state,\n",
    "    verbose=-1\n",
    ")\n",
    "\n",
    "estimator_right =  lgbm.LGBMRegressor(\n",
    "    max_depth=6, n_estimators=5000, learning_rate=.02,\n",
    "    objective='quantile',\n",
    "    alpha=0.9,\n",
    "    random_state=random_state,\n",
    "    verbose=-1\n",
    ")"
   ]
  },
  {
   "cell_type": "code",
   "execution_count": 23,
   "id": "676940ab-6601-4d8f-9466-5fbcc8296d4d",
   "metadata": {},
   "outputs": [
    {
     "data": {
      "text/html": [
       "<style>#sk-container-id-3 {\n",
       "  /* Definition of color scheme common for light and dark mode */\n",
       "  --sklearn-color-text: black;\n",
       "  --sklearn-color-line: gray;\n",
       "  /* Definition of color scheme for unfitted estimators */\n",
       "  --sklearn-color-unfitted-level-0: #fff5e6;\n",
       "  --sklearn-color-unfitted-level-1: #f6e4d2;\n",
       "  --sklearn-color-unfitted-level-2: #ffe0b3;\n",
       "  --sklearn-color-unfitted-level-3: chocolate;\n",
       "  /* Definition of color scheme for fitted estimators */\n",
       "  --sklearn-color-fitted-level-0: #f0f8ff;\n",
       "  --sklearn-color-fitted-level-1: #d4ebff;\n",
       "  --sklearn-color-fitted-level-2: #b3dbfd;\n",
       "  --sklearn-color-fitted-level-3: cornflowerblue;\n",
       "\n",
       "  /* Specific color for light theme */\n",
       "  --sklearn-color-text-on-default-background: var(--sg-text-color, var(--theme-code-foreground, var(--jp-content-font-color1, black)));\n",
       "  --sklearn-color-background: var(--sg-background-color, var(--theme-background, var(--jp-layout-color0, white)));\n",
       "  --sklearn-color-border-box: var(--sg-text-color, var(--theme-code-foreground, var(--jp-content-font-color1, black)));\n",
       "  --sklearn-color-icon: #696969;\n",
       "\n",
       "  @media (prefers-color-scheme: dark) {\n",
       "    /* Redefinition of color scheme for dark theme */\n",
       "    --sklearn-color-text-on-default-background: var(--sg-text-color, var(--theme-code-foreground, var(--jp-content-font-color1, white)));\n",
       "    --sklearn-color-background: var(--sg-background-color, var(--theme-background, var(--jp-layout-color0, #111)));\n",
       "    --sklearn-color-border-box: var(--sg-text-color, var(--theme-code-foreground, var(--jp-content-font-color1, white)));\n",
       "    --sklearn-color-icon: #878787;\n",
       "  }\n",
       "}\n",
       "\n",
       "#sk-container-id-3 {\n",
       "  color: var(--sklearn-color-text);\n",
       "}\n",
       "\n",
       "#sk-container-id-3 pre {\n",
       "  padding: 0;\n",
       "}\n",
       "\n",
       "#sk-container-id-3 input.sk-hidden--visually {\n",
       "  border: 0;\n",
       "  clip: rect(1px 1px 1px 1px);\n",
       "  clip: rect(1px, 1px, 1px, 1px);\n",
       "  height: 1px;\n",
       "  margin: -1px;\n",
       "  overflow: hidden;\n",
       "  padding: 0;\n",
       "  position: absolute;\n",
       "  width: 1px;\n",
       "}\n",
       "\n",
       "#sk-container-id-3 div.sk-dashed-wrapped {\n",
       "  border: 1px dashed var(--sklearn-color-line);\n",
       "  margin: 0 0.4em 0.5em 0.4em;\n",
       "  box-sizing: border-box;\n",
       "  padding-bottom: 0.4em;\n",
       "  background-color: var(--sklearn-color-background);\n",
       "}\n",
       "\n",
       "#sk-container-id-3 div.sk-container {\n",
       "  /* jupyter's `normalize.less` sets `[hidden] { display: none; }`\n",
       "     but bootstrap.min.css set `[hidden] { display: none !important; }`\n",
       "     so we also need the `!important` here to be able to override the\n",
       "     default hidden behavior on the sphinx rendered scikit-learn.org.\n",
       "     See: https://github.com/scikit-learn/scikit-learn/issues/21755 */\n",
       "  display: inline-block !important;\n",
       "  position: relative;\n",
       "}\n",
       "\n",
       "#sk-container-id-3 div.sk-text-repr-fallback {\n",
       "  display: none;\n",
       "}\n",
       "\n",
       "div.sk-parallel-item,\n",
       "div.sk-serial,\n",
       "div.sk-item {\n",
       "  /* draw centered vertical line to link estimators */\n",
       "  background-image: linear-gradient(var(--sklearn-color-text-on-default-background), var(--sklearn-color-text-on-default-background));\n",
       "  background-size: 2px 100%;\n",
       "  background-repeat: no-repeat;\n",
       "  background-position: center center;\n",
       "}\n",
       "\n",
       "/* Parallel-specific style estimator block */\n",
       "\n",
       "#sk-container-id-3 div.sk-parallel-item::after {\n",
       "  content: \"\";\n",
       "  width: 100%;\n",
       "  border-bottom: 2px solid var(--sklearn-color-text-on-default-background);\n",
       "  flex-grow: 1;\n",
       "}\n",
       "\n",
       "#sk-container-id-3 div.sk-parallel {\n",
       "  display: flex;\n",
       "  align-items: stretch;\n",
       "  justify-content: center;\n",
       "  background-color: var(--sklearn-color-background);\n",
       "  position: relative;\n",
       "}\n",
       "\n",
       "#sk-container-id-3 div.sk-parallel-item {\n",
       "  display: flex;\n",
       "  flex-direction: column;\n",
       "}\n",
       "\n",
       "#sk-container-id-3 div.sk-parallel-item:first-child::after {\n",
       "  align-self: flex-end;\n",
       "  width: 50%;\n",
       "}\n",
       "\n",
       "#sk-container-id-3 div.sk-parallel-item:last-child::after {\n",
       "  align-self: flex-start;\n",
       "  width: 50%;\n",
       "}\n",
       "\n",
       "#sk-container-id-3 div.sk-parallel-item:only-child::after {\n",
       "  width: 0;\n",
       "}\n",
       "\n",
       "/* Serial-specific style estimator block */\n",
       "\n",
       "#sk-container-id-3 div.sk-serial {\n",
       "  display: flex;\n",
       "  flex-direction: column;\n",
       "  align-items: center;\n",
       "  background-color: var(--sklearn-color-background);\n",
       "  padding-right: 1em;\n",
       "  padding-left: 1em;\n",
       "}\n",
       "\n",
       "\n",
       "/* Toggleable style: style used for estimator/Pipeline/ColumnTransformer box that is\n",
       "clickable and can be expanded/collapsed.\n",
       "- Pipeline and ColumnTransformer use this feature and define the default style\n",
       "- Estimators will overwrite some part of the style using the `sk-estimator` class\n",
       "*/\n",
       "\n",
       "/* Pipeline and ColumnTransformer style (default) */\n",
       "\n",
       "#sk-container-id-3 div.sk-toggleable {\n",
       "  /* Default theme specific background. It is overwritten whether we have a\n",
       "  specific estimator or a Pipeline/ColumnTransformer */\n",
       "  background-color: var(--sklearn-color-background);\n",
       "}\n",
       "\n",
       "/* Toggleable label */\n",
       "#sk-container-id-3 label.sk-toggleable__label {\n",
       "  cursor: pointer;\n",
       "  display: block;\n",
       "  width: 100%;\n",
       "  margin-bottom: 0;\n",
       "  padding: 0.5em;\n",
       "  box-sizing: border-box;\n",
       "  text-align: center;\n",
       "}\n",
       "\n",
       "#sk-container-id-3 label.sk-toggleable__label-arrow:before {\n",
       "  /* Arrow on the left of the label */\n",
       "  content: \"▸\";\n",
       "  float: left;\n",
       "  margin-right: 0.25em;\n",
       "  color: var(--sklearn-color-icon);\n",
       "}\n",
       "\n",
       "#sk-container-id-3 label.sk-toggleable__label-arrow:hover:before {\n",
       "  color: var(--sklearn-color-text);\n",
       "}\n",
       "\n",
       "/* Toggleable content - dropdown */\n",
       "\n",
       "#sk-container-id-3 div.sk-toggleable__content {\n",
       "  max-height: 0;\n",
       "  max-width: 0;\n",
       "  overflow: hidden;\n",
       "  text-align: left;\n",
       "  /* unfitted */\n",
       "  background-color: var(--sklearn-color-unfitted-level-0);\n",
       "}\n",
       "\n",
       "#sk-container-id-3 div.sk-toggleable__content.fitted {\n",
       "  /* fitted */\n",
       "  background-color: var(--sklearn-color-fitted-level-0);\n",
       "}\n",
       "\n",
       "#sk-container-id-3 div.sk-toggleable__content pre {\n",
       "  margin: 0.2em;\n",
       "  border-radius: 0.25em;\n",
       "  color: var(--sklearn-color-text);\n",
       "  /* unfitted */\n",
       "  background-color: var(--sklearn-color-unfitted-level-0);\n",
       "}\n",
       "\n",
       "#sk-container-id-3 div.sk-toggleable__content.fitted pre {\n",
       "  /* unfitted */\n",
       "  background-color: var(--sklearn-color-fitted-level-0);\n",
       "}\n",
       "\n",
       "#sk-container-id-3 input.sk-toggleable__control:checked~div.sk-toggleable__content {\n",
       "  /* Expand drop-down */\n",
       "  max-height: 200px;\n",
       "  max-width: 100%;\n",
       "  overflow: auto;\n",
       "}\n",
       "\n",
       "#sk-container-id-3 input.sk-toggleable__control:checked~label.sk-toggleable__label-arrow:before {\n",
       "  content: \"▾\";\n",
       "}\n",
       "\n",
       "/* Pipeline/ColumnTransformer-specific style */\n",
       "\n",
       "#sk-container-id-3 div.sk-label input.sk-toggleable__control:checked~label.sk-toggleable__label {\n",
       "  color: var(--sklearn-color-text);\n",
       "  background-color: var(--sklearn-color-unfitted-level-2);\n",
       "}\n",
       "\n",
       "#sk-container-id-3 div.sk-label.fitted input.sk-toggleable__control:checked~label.sk-toggleable__label {\n",
       "  background-color: var(--sklearn-color-fitted-level-2);\n",
       "}\n",
       "\n",
       "/* Estimator-specific style */\n",
       "\n",
       "/* Colorize estimator box */\n",
       "#sk-container-id-3 div.sk-estimator input.sk-toggleable__control:checked~label.sk-toggleable__label {\n",
       "  /* unfitted */\n",
       "  background-color: var(--sklearn-color-unfitted-level-2);\n",
       "}\n",
       "\n",
       "#sk-container-id-3 div.sk-estimator.fitted input.sk-toggleable__control:checked~label.sk-toggleable__label {\n",
       "  /* fitted */\n",
       "  background-color: var(--sklearn-color-fitted-level-2);\n",
       "}\n",
       "\n",
       "#sk-container-id-3 div.sk-label label.sk-toggleable__label,\n",
       "#sk-container-id-3 div.sk-label label {\n",
       "  /* The background is the default theme color */\n",
       "  color: var(--sklearn-color-text-on-default-background);\n",
       "}\n",
       "\n",
       "/* On hover, darken the color of the background */\n",
       "#sk-container-id-3 div.sk-label:hover label.sk-toggleable__label {\n",
       "  color: var(--sklearn-color-text);\n",
       "  background-color: var(--sklearn-color-unfitted-level-2);\n",
       "}\n",
       "\n",
       "/* Label box, darken color on hover, fitted */\n",
       "#sk-container-id-3 div.sk-label.fitted:hover label.sk-toggleable__label.fitted {\n",
       "  color: var(--sklearn-color-text);\n",
       "  background-color: var(--sklearn-color-fitted-level-2);\n",
       "}\n",
       "\n",
       "/* Estimator label */\n",
       "\n",
       "#sk-container-id-3 div.sk-label label {\n",
       "  font-family: monospace;\n",
       "  font-weight: bold;\n",
       "  display: inline-block;\n",
       "  line-height: 1.2em;\n",
       "}\n",
       "\n",
       "#sk-container-id-3 div.sk-label-container {\n",
       "  text-align: center;\n",
       "}\n",
       "\n",
       "/* Estimator-specific */\n",
       "#sk-container-id-3 div.sk-estimator {\n",
       "  font-family: monospace;\n",
       "  border: 1px dotted var(--sklearn-color-border-box);\n",
       "  border-radius: 0.25em;\n",
       "  box-sizing: border-box;\n",
       "  margin-bottom: 0.5em;\n",
       "  /* unfitted */\n",
       "  background-color: var(--sklearn-color-unfitted-level-0);\n",
       "}\n",
       "\n",
       "#sk-container-id-3 div.sk-estimator.fitted {\n",
       "  /* fitted */\n",
       "  background-color: var(--sklearn-color-fitted-level-0);\n",
       "}\n",
       "\n",
       "/* on hover */\n",
       "#sk-container-id-3 div.sk-estimator:hover {\n",
       "  /* unfitted */\n",
       "  background-color: var(--sklearn-color-unfitted-level-2);\n",
       "}\n",
       "\n",
       "#sk-container-id-3 div.sk-estimator.fitted:hover {\n",
       "  /* fitted */\n",
       "  background-color: var(--sklearn-color-fitted-level-2);\n",
       "}\n",
       "\n",
       "/* Specification for estimator info (e.g. \"i\" and \"?\") */\n",
       "\n",
       "/* Common style for \"i\" and \"?\" */\n",
       "\n",
       ".sk-estimator-doc-link,\n",
       "a:link.sk-estimator-doc-link,\n",
       "a:visited.sk-estimator-doc-link {\n",
       "  float: right;\n",
       "  font-size: smaller;\n",
       "  line-height: 1em;\n",
       "  font-family: monospace;\n",
       "  background-color: var(--sklearn-color-background);\n",
       "  border-radius: 1em;\n",
       "  height: 1em;\n",
       "  width: 1em;\n",
       "  text-decoration: none !important;\n",
       "  margin-left: 1ex;\n",
       "  /* unfitted */\n",
       "  border: var(--sklearn-color-unfitted-level-1) 1pt solid;\n",
       "  color: var(--sklearn-color-unfitted-level-1);\n",
       "}\n",
       "\n",
       ".sk-estimator-doc-link.fitted,\n",
       "a:link.sk-estimator-doc-link.fitted,\n",
       "a:visited.sk-estimator-doc-link.fitted {\n",
       "  /* fitted */\n",
       "  border: var(--sklearn-color-fitted-level-1) 1pt solid;\n",
       "  color: var(--sklearn-color-fitted-level-1);\n",
       "}\n",
       "\n",
       "/* On hover */\n",
       "div.sk-estimator:hover .sk-estimator-doc-link:hover,\n",
       ".sk-estimator-doc-link:hover,\n",
       "div.sk-label-container:hover .sk-estimator-doc-link:hover,\n",
       ".sk-estimator-doc-link:hover {\n",
       "  /* unfitted */\n",
       "  background-color: var(--sklearn-color-unfitted-level-3);\n",
       "  color: var(--sklearn-color-background);\n",
       "  text-decoration: none;\n",
       "}\n",
       "\n",
       "div.sk-estimator.fitted:hover .sk-estimator-doc-link.fitted:hover,\n",
       ".sk-estimator-doc-link.fitted:hover,\n",
       "div.sk-label-container:hover .sk-estimator-doc-link.fitted:hover,\n",
       ".sk-estimator-doc-link.fitted:hover {\n",
       "  /* fitted */\n",
       "  background-color: var(--sklearn-color-fitted-level-3);\n",
       "  color: var(--sklearn-color-background);\n",
       "  text-decoration: none;\n",
       "}\n",
       "\n",
       "/* Span, style for the box shown on hovering the info icon */\n",
       ".sk-estimator-doc-link span {\n",
       "  display: none;\n",
       "  z-index: 9999;\n",
       "  position: relative;\n",
       "  font-weight: normal;\n",
       "  right: .2ex;\n",
       "  padding: .5ex;\n",
       "  margin: .5ex;\n",
       "  width: min-content;\n",
       "  min-width: 20ex;\n",
       "  max-width: 50ex;\n",
       "  color: var(--sklearn-color-text);\n",
       "  box-shadow: 2pt 2pt 4pt #999;\n",
       "  /* unfitted */\n",
       "  background: var(--sklearn-color-unfitted-level-0);\n",
       "  border: .5pt solid var(--sklearn-color-unfitted-level-3);\n",
       "}\n",
       "\n",
       ".sk-estimator-doc-link.fitted span {\n",
       "  /* fitted */\n",
       "  background: var(--sklearn-color-fitted-level-0);\n",
       "  border: var(--sklearn-color-fitted-level-3);\n",
       "}\n",
       "\n",
       ".sk-estimator-doc-link:hover span {\n",
       "  display: block;\n",
       "}\n",
       "\n",
       "/* \"?\"-specific style due to the `<a>` HTML tag */\n",
       "\n",
       "#sk-container-id-3 a.estimator_doc_link {\n",
       "  float: right;\n",
       "  font-size: 1rem;\n",
       "  line-height: 1em;\n",
       "  font-family: monospace;\n",
       "  background-color: var(--sklearn-color-background);\n",
       "  border-radius: 1rem;\n",
       "  height: 1rem;\n",
       "  width: 1rem;\n",
       "  text-decoration: none;\n",
       "  /* unfitted */\n",
       "  color: var(--sklearn-color-unfitted-level-1);\n",
       "  border: var(--sklearn-color-unfitted-level-1) 1pt solid;\n",
       "}\n",
       "\n",
       "#sk-container-id-3 a.estimator_doc_link.fitted {\n",
       "  /* fitted */\n",
       "  border: var(--sklearn-color-fitted-level-1) 1pt solid;\n",
       "  color: var(--sklearn-color-fitted-level-1);\n",
       "}\n",
       "\n",
       "/* On hover */\n",
       "#sk-container-id-3 a.estimator_doc_link:hover {\n",
       "  /* unfitted */\n",
       "  background-color: var(--sklearn-color-unfitted-level-3);\n",
       "  color: var(--sklearn-color-background);\n",
       "  text-decoration: none;\n",
       "}\n",
       "\n",
       "#sk-container-id-3 a.estimator_doc_link.fitted:hover {\n",
       "  /* fitted */\n",
       "  background-color: var(--sklearn-color-fitted-level-3);\n",
       "}\n",
       "</style><div id=\"sk-container-id-3\" class=\"sk-top-container\"><div class=\"sk-text-repr-fallback\"><pre>LGBMRegressor(alpha=0.9, learning_rate=0.02, max_depth=6, n_estimators=5000,\n",
       "              objective=&#x27;quantile&#x27;, random_state=0, verbose=-1)</pre><b>In a Jupyter environment, please rerun this cell to show the HTML representation or trust the notebook. <br />On GitHub, the HTML representation is unable to render, please try loading this page with nbviewer.org.</b></div><div class=\"sk-container\" hidden><div class=\"sk-item\"><div class=\"sk-estimator fitted sk-toggleable\"><input class=\"sk-toggleable__control sk-hidden--visually\" id=\"sk-estimator-id-3\" type=\"checkbox\" checked><label for=\"sk-estimator-id-3\" class=\"sk-toggleable__label fitted sk-toggleable__label-arrow fitted\">&nbsp;LGBMRegressor<span class=\"sk-estimator-doc-link fitted\">i<span>Fitted</span></span></label><div class=\"sk-toggleable__content fitted\"><pre>LGBMRegressor(alpha=0.9, learning_rate=0.02, max_depth=6, n_estimators=5000,\n",
       "              objective=&#x27;quantile&#x27;, random_state=0, verbose=-1)</pre></div> </div></div></div></div>"
      ],
      "text/plain": [
       "LGBMRegressor(alpha=0.9, learning_rate=0.02, max_depth=6, n_estimators=5000,\n",
       "              objective='quantile', random_state=0, verbose=-1)"
      ]
     },
     "execution_count": 23,
     "metadata": {},
     "output_type": "execute_result"
    }
   ],
   "source": [
    "# Train them each using early stopping\n",
    "estimator_left.fit(X_train, y_train, eval_set=[(X_calib, y_calib)],\n",
    "                          callbacks=[lgbm.early_stopping(stopping_rounds=50, verbose=0), lgbm.log_evaluation(period=0)])\n",
    "estimator_right.fit(X_train, y_train, eval_set=[(X_calib, y_calib)],\n",
    "                          callbacks=[lgbm.early_stopping(stopping_rounds=50, verbose=0), lgbm.log_evaluation(period=0)])\n"
   ]
  },
  {
   "cell_type": "code",
   "execution_count": null,
   "id": "6c4ffcc4-9038-4f91-b096-f0f7154b67c8",
   "metadata": {
    "tags": []
   },
   "outputs": [],
   "source": []
  },
  {
   "cell_type": "code",
   "execution_count": 24,
   "id": "0f4b30c3-fe2a-4dca-a5e1-fc24cf374224",
   "metadata": {},
   "outputs": [],
   "source": [
    "# Make predictions on the test set with each model\n",
    "left_ep_test = estimator_left.predict(X_test)\n",
    "right_ep_test = estimator_right.predict(X_test)"
   ]
  },
  {
   "cell_type": "code",
   "execution_count": 25,
   "id": "a1884bc4-9107-4876-90a0-9557a55d8066",
   "metadata": {
    "tags": []
   },
   "outputs": [
    {
     "data": {
      "text/plain": [
       "(array([[32.8095862 , 41.0184797 ],\n",
       "        [40.10118683, 52.48055769],\n",
       "        [31.98714107, 39.3377904 ],\n",
       "        [44.39881653, 56.13811596]]),\n",
       " array([44.2960751 , 47.02984744, 38.07424367, 43.01296026]))"
      ]
     },
     "execution_count": 25,
     "metadata": {},
     "output_type": "execute_result"
    }
   ],
   "source": [
    "# Combine them to make a \"unconformalized\" set of prediction intervals\n",
    "pis_test_naive = np.vstack((left_ep_test,right_ep_test)).T\n",
    "pis_test_naive[:4,:], y_test[:4]"
   ]
  },
  {
   "cell_type": "code",
   "execution_count": 26,
   "id": "86de9e30-e6e9-4e26-b899-88df54f35ce5",
   "metadata": {},
   "outputs": [
    {
     "data": {
      "text/plain": [
       "(np.float64(0.5254237288135594), np.float64(8.836249998350251))"
      ]
     },
     "execution_count": 26,
     "metadata": {},
     "output_type": "execute_result"
    }
   ],
   "source": [
    "# Examine the coverage and average width of this set of intervals\n",
    "coverage_res_naive = (y_test >= pis_test_naive[:,0]) & (y_test<=pis_test_naive[:,1])\n",
    "np.mean(coverage_res_naive), np.mean(pis_test_naive[:,1]-pis_test_naive[:,0])"
   ]
  },
  {
   "cell_type": "markdown",
   "id": "ac733af0-30c1-4b90-96b7-c95f89633390",
   "metadata": {},
   "source": [
    "As you can see, these prediction intervals do not give the promised coverage.  We will now use the calibration set to \"correct\" these intervals"
   ]
  },
  {
   "cell_type": "code",
   "execution_count": 27,
   "id": "5aad8d42-1904-4cd5-9cbc-037e29d4300f",
   "metadata": {},
   "outputs": [],
   "source": [
    "# define a function that calculates \"residuals\" between intervals and values\n",
    "# residual is zero if the value is in the interval\n",
    "# Otherwise it is the distance (absolute value) to the interval\n",
    "def interval_residuals(intervals, values):\n",
    "    left_resid = np.maximum(intervals[:,0]-values,0)\n",
    "    right_resid = np.maximum(values-intervals[:,1],0)\n",
    "    return(left_resid+right_resid)"
   ]
  },
  {
   "cell_type": "code",
   "execution_count": 28,
   "id": "851f0691-6ae8-4d42-95d2-f1c51e75f8a0",
   "metadata": {},
   "outputs": [],
   "source": [
    "# Make our left / right quantile predictions on the calibration set\n",
    "\n",
    "left_ep_calib = estimator_left.predict(X_calib)\n",
    "right_ep_calib = estimator_right.predict(X_calib)"
   ]
  },
  {
   "cell_type": "code",
   "execution_count": 29,
   "id": "13067453-4517-42fa-ae52-dd27582cba85",
   "metadata": {
    "tags": []
   },
   "outputs": [
    {
     "data": {
      "text/plain": [
       "(array([[54.90651182, 66.56229623],\n",
       "        [37.9266386 , 50.42781083],\n",
       "        [25.99774988, 32.02990801],\n",
       "        [40.95544983, 51.66038385]]),\n",
       " array([79.98611076, 36.44776979, 28.02168359, 52.90831981]))"
      ]
     },
     "execution_count": 29,
     "metadata": {},
     "output_type": "execute_result"
    }
   ],
   "source": [
    "# Assemble them into intervals\n",
    "pis_calib_naive = np.vstack((left_ep_calib,right_ep_calib)).T\n",
    "pis_calib_naive[:4,:], y_calib[:4]"
   ]
  },
  {
   "cell_type": "code",
   "execution_count": 30,
   "id": "f2981389-5927-4975-bc9d-d18c502689b1",
   "metadata": {
    "tags": []
   },
   "outputs": [],
   "source": [
    "# Calculate the residuals and sort them from smallest to largest\n",
    "ir_calib = interval_residuals(pis_calib_naive, y_calib)\n",
    "ir_sorted = np.sort(ir_calib)\n",
    "num_pts_calib = len(y_calib)\n",
    "q_val = .8\n"
   ]
  },
  {
   "cell_type": "code",
   "execution_count": null,
   "id": "ad0560ff-c10d-43b7-b8b8-e39e1979733b",
   "metadata": {
    "tags": []
   },
   "outputs": [],
   "source": []
  },
  {
   "cell_type": "code",
   "execution_count": 31,
   "id": "45ec7208-883a-4d7e-bce1-574e11191193",
   "metadata": {
    "tags": []
   },
   "outputs": [
    {
     "data": {
      "text/plain": [
       "np.float64(2.1024451649103284)"
      ]
     },
     "execution_count": 31,
     "metadata": {},
     "output_type": "execute_result"
    }
   ],
   "source": [
    "# Determine the conformal adjustment from the sorted list\n",
    "# i.e. roughly go 80% of the way down the list and find the value\n",
    "# (not exactly 80% due to minor details, python zero indexing etc...)\n",
    "index_to_use = int(np.ceil(q_val * (num_pts_calib +1))-1)\n",
    "conformal_adj = ir_sorted[index_to_use]\n",
    "conformal_adj"
   ]
  },
  {
   "cell_type": "code",
   "execution_count": 32,
   "id": "786a8ead-8a43-437c-b5c2-ec41517a3a1c",
   "metadata": {
    "tags": []
   },
   "outputs": [],
   "source": [
    "# Widen the intervals by the adjusted value\n",
    "\n",
    "pis_test_conformed = np.vstack((pis_test_naive[:,0]-conformal_adj, \n",
    "                                  pis_test_naive[:,1]+conformal_adj)).T"
   ]
  },
  {
   "cell_type": "code",
   "execution_count": 33,
   "id": "d31c4606-31b8-41ae-8a1c-19d3d51937e7",
   "metadata": {
    "tags": []
   },
   "outputs": [
    {
     "data": {
      "text/plain": [
       "array([[32.8095862 , 41.0184797 ],\n",
       "       [40.10118683, 52.48055769],\n",
       "       [31.98714107, 39.3377904 ],\n",
       "       [44.39881653, 56.13811596]])"
      ]
     },
     "execution_count": 33,
     "metadata": {},
     "output_type": "execute_result"
    }
   ],
   "source": [
    "pis_test_naive[:4,:]"
   ]
  },
  {
   "cell_type": "code",
   "execution_count": 34,
   "id": "dbe25b4d-af3f-443f-91b5-8b1ff50dc839",
   "metadata": {
    "tags": []
   },
   "outputs": [
    {
     "data": {
      "text/plain": [
       "array([[30.70714104, 43.12092487],\n",
       "       [37.99874166, 54.58300286],\n",
       "       [29.88469591, 41.44023557],\n",
       "       [42.29637136, 58.24056113]])"
      ]
     },
     "execution_count": 34,
     "metadata": {},
     "output_type": "execute_result"
    }
   ],
   "source": [
    "pis_test_conformed[:4,:]"
   ]
  },
  {
   "cell_type": "code",
   "execution_count": 35,
   "id": "eea41b9a-6f92-4273-8ae9-4c03459c5dd8",
   "metadata": {},
   "outputs": [
    {
     "data": {
      "text/plain": [
       "(np.float64(0.8101694915254237), np.float64(13.041140328170908))"
      ]
     },
     "execution_count": 35,
     "metadata": {},
     "output_type": "execute_result"
    }
   ],
   "source": [
    "# Compute the coverage and the average interval width\n",
    "# Note that average interval width is wider than for SCP\n",
    "coverage_res_cqr = (y_test >= pis_test_conformed[:,0]) & (y_test<=pis_test_conformed[:,1])\n",
    "interval_widths_cqr = pis_test_conformed[:,1]-pis_test_conformed[:,0]\n",
    "np.mean(coverage_res_cqr), np.mean(interval_widths_cqr)"
   ]
  },
  {
   "cell_type": "code",
   "execution_count": 36,
   "id": "e702fb84-6051-4357-aba5-46b1b601e736",
   "metadata": {
    "tags": []
   },
   "outputs": [
    {
     "data": {
      "text/plain": [
       "(np.float64(0.8888888888888888), np.float64(0.75))"
      ]
     },
     "execution_count": 36,
     "metadata": {},
     "output_type": "execute_result"
    }
   ],
   "source": [
    "np.mean(coverage_res_cqr[y_test<20]), np.mean(coverage_res_cqr[y_test>=60])"
   ]
  },
  {
   "cell_type": "code",
   "execution_count": 37,
   "id": "fda40a44-6ed7-4f2e-8e7b-dac6766ea3e8",
   "metadata": {
    "tags": []
   },
   "outputs": [
    {
     "data": {
      "image/png": "[encoded data removed]",
      "text/plain": [
       "<Figure size 640x480 with 1 Axes>"
      ]
     },
     "metadata": {},
     "output_type": "display_data"
    }
   ],
   "source": [
    "plt.hist(df_concrete.strength);"
   ]
  },
  {
   "cell_type": "code",
   "execution_count": 38,
   "id": "6aff54b3-63b6-4ae8-87d0-359ac04ea739",
   "metadata": {
    "tags": []
   },
   "outputs": [
    {
     "data": {
      "image/png": "[encoded data removed]",
      "text/plain": [
       "<Figure size 640x480 with 1 Axes>"
      ]
     },
     "metadata": {},
     "output_type": "display_data"
    }
   ],
   "source": [
    "plt.hist(interval_widths_cqr, bins=np.linspace(0,35,36));"
   ]
  },
  {
   "cell_type": "code",
   "execution_count": 39,
   "id": "4661336b-509a-49f5-9752-6fe30ac08c12",
   "metadata": {
    "tags": []
   },
   "outputs": [
    {
     "data": {
      "image/png": "[encoded data removed]",
      "text/plain": [
       "<Figure size 640x480 with 1 Axes>"
      ]
     },
     "metadata": {},
     "output_type": "display_data"
    }
   ],
   "source": [
    "# You can see that the larger target values tend to have wider intervals\n",
    "plt.scatter(y_test, interval_widths_cqr, marker='.');"
   ]
  },
  {
   "cell_type": "code",
   "execution_count": null,
   "id": "b077a9a3-bf4a-431e-954c-f86f9f766222",
   "metadata": {},
   "outputs": [],
   "source": []
  },
  {
   "cell_type": "markdown",
   "id": "29831b11-efc8-4350-998e-4dac1bb05e3d",
   "metadata": {},
   "source": [
    "## Coming soon - Conformalizing Distributions in Coarsage\n",
    "- Given a set of predicted distributions (on a calibration set) and the actuals, can we adjust future distributional predictions (via the quantiles) to improve performance. (YES!)"
   ]
  },
  {
   "cell_type": "code",
   "execution_count": null,
   "id": "acf88689-b3a4-4cb4-8b3d-40b4e7cc0c80",
   "metadata": {},
   "outputs": [],
   "source": []
  }
 ],
 "metadata": {
  "kernelspec": {
   "display_name": "Python 3 (ipykernel)",
   "language": "python",
   "name": "python3"
  },
  "language_info": {
   "codemirror_mode": {
    "name": "ipython",
    "version": 3
   },
   "file_extension": ".py",
   "mimetype": "text/x-python",
   "name": "python",
   "nbconvert_exporter": "python",
   "pygments_lexer": "ipython3",
   "version": "3.11.9"
  }
 },
 "nbformat": 4,
 "nbformat_minor": 5
}
